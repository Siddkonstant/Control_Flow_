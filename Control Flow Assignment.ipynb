{
 "cells": [
  {
   "cell_type": "markdown",
   "id": "e11e19fd-9af4-4443-8ef6-48252c9c5dec",
   "metadata": {},
   "source": [
    "Control Flow Assignment"
   ]
  },
  {
   "cell_type": "markdown",
   "id": "05c5656d-b389-4367-b1ae-488ac911af14",
   "metadata": {},
   "source": [
    "Basic If-Else Statements:"
   ]
  },
  {
   "cell_type": "markdown",
   "id": "344147ea-73e7-4676-b8ad-99a0dc972c15",
   "metadata": {},
   "source": [
    "1. Write a Python program to check if a given number is positive or negative."
   ]
  },
  {
   "cell_type": "code",
   "execution_count": null,
   "id": "d329a753-d92a-4a7b-8eeb-2e9507f791a7",
   "metadata": {},
   "outputs": [
    {
     "name": "stdin",
     "output_type": "stream",
     "text": [
      "enter a number -1\n"
     ]
    },
    {
     "name": "stdout",
     "output_type": "stream",
     "text": [
      "It is a negative number\n"
     ]
    }
   ],
   "source": [
    "a = int(input(\"enter a number\"))\n",
    "if a >= 0:\n",
    "        print(\"It is a positive number\")\n",
    "else:\n",
    "        print(\"It is a negative number\")"
   ]
  },
  {
   "cell_type": "markdown",
   "id": "40e43bff-4d26-4462-b902-8fc257b6bdcc",
   "metadata": {},
   "source": [
    "2. Create a program that determines if a person is eligible to vote based on their age."
   ]
  },
  {
   "cell_type": "code",
   "execution_count": 8,
   "id": "0e0720c4-eb20-4412-bfe2-1f27f9032f75",
   "metadata": {},
   "outputs": [
    {
     "name": "stdin",
     "output_type": "stream",
     "text": [
      "Please enter your age 112\n"
     ]
    },
    {
     "name": "stdout",
     "output_type": "stream",
     "text": [
      "You are eligible to vote\n"
     ]
    }
   ],
   "source": [
    "minimum_age_to_vote = 18\n",
    "age = int(input(\"Please enter your age\"))\n",
    "if age >= minimum_age_to_vote:\n",
    "    print(\"You are eligible to vote\")\n",
    "else:\n",
    "    print(\"Grow up\")"
   ]
  },
  {
   "cell_type": "markdown",
   "id": "2f71cf0b-8ff2-49e2-8650-2f1abd951f8c",
   "metadata": {},
   "source": [
    "3. Develop a program to find the maximum of two numbers using if-else statements."
   ]
  },
  {
   "cell_type": "code",
   "execution_count": 15,
   "id": "472689ab-7164-431a-946b-17aa28afc883",
   "metadata": {},
   "outputs": [
    {
     "name": "stdin",
     "output_type": "stream",
     "text": [
      "Enter first number 5\n",
      "Enter second number 2\n"
     ]
    },
    {
     "name": "stdout",
     "output_type": "stream",
     "text": [
      "First is greater than second\n"
     ]
    }
   ],
   "source": [
    "num1 = int(input(\"Enter first number\")) \n",
    "num2 = int(input(\"Enter second number\"))\n",
    "\n",
    "if num1 > num2:\n",
    "    print(\"First is greater than second\")\n",
    "elif num1 == num2:\n",
    "          print(\"Number 1 and 2 are same\")\n",
    "else:\n",
    "          print(\"num2 is bigger than num1\")"
   ]
  },
  {
   "cell_type": "markdown",
   "id": "d3f49c73-762b-4457-a60d-6b9b4e7fe35d",
   "metadata": {},
   "source": [
    "4. Write a Python script to classify a given year as a leap year or not."
   ]
  },
  {
   "cell_type": "code",
   "execution_count": 24,
   "id": "74b9a04e-a871-4be9-aa8d-161ebc53c79b",
   "metadata": {},
   "outputs": [
    {
     "name": "stdin",
     "output_type": "stream",
     "text": [
      "Enter the year 2023\n"
     ]
    },
    {
     "name": "stdout",
     "output_type": "stream",
     "text": [
      "it is not a leap year\n"
     ]
    }
   ],
   "source": [
    "def leap_year(year):\n",
    "    if (year % 4 == 0 and year % 100 != 0) or (year % 400 == 0):\n",
    "        print(\"Its is a leap year\")\n",
    "    else:\n",
    "        print(\"it is not a leap year\")\n",
    "        \n",
    "year = int(input(\"Enter the year\"))\n",
    "leap_year(year)"
   ]
  },
  {
   "cell_type": "markdown",
   "id": "9e3d8327-b3e7-4dbe-8e4e-aa361c9cdee1",
   "metadata": {},
   "source": [
    "5. Create a program that checks whether a character is a vowel or a consonant."
   ]
  },
  {
   "cell_type": "code",
   "execution_count": 28,
   "id": "f8dca812-ede1-4310-85d4-17bcafc21d43",
   "metadata": {},
   "outputs": [
    {
     "name": "stdin",
     "output_type": "stream",
     "text": [
      "Enter character to check b\n"
     ]
    },
    {
     "name": "stdout",
     "output_type": "stream",
     "text": [
      "character is consonant\n"
     ]
    }
   ],
   "source": [
    "def check_character(char1):\n",
    "    if char1.lower() in ['a','e','i','o','u']:\n",
    "        print(\"character is vowel\")\n",
    "    else:\n",
    "        print(\"character is consonant\")\n",
    " \n",
    "char1 = input(\"Enter character to check\")\n",
    "check_character(char1)"
   ]
  },
  {
   "cell_type": "markdown",
   "id": "40d6aa2a-b368-40d6-bec5-e86aed5049d1",
   "metadata": {},
   "source": [
    "6. Implement a program to determine whether a given number is even or odd."
   ]
  },
  {
   "cell_type": "code",
   "execution_count": 35,
   "id": "1e9c9478-5298-48b4-8b23-eadc33158058",
   "metadata": {},
   "outputs": [
    {
     "name": "stdin",
     "output_type": "stream",
     "text": [
      "enter the number 11\n"
     ]
    },
    {
     "name": "stdout",
     "output_type": "stream",
     "text": [
      "number is odd\n"
     ]
    }
   ],
   "source": [
    "def even_odd(n):\n",
    "    if n % 2 == 0:\n",
    "        print(\"Number is even\")\n",
    "    else:\n",
    "        print(\"number is odd\")\n",
    "        \n",
    "n = float(input(\"enter the number\"))\n",
    "even_odd(n)"
   ]
  },
  {
   "cell_type": "markdown",
   "id": "233303de-17d0-4a18-9faa-10b0a5848da6",
   "metadata": {},
   "source": [
    "7. Write a Python function to calculate the absolute value of a number without using the `abs()` function."
   ]
  },
  {
   "cell_type": "code",
   "execution_count": 42,
   "id": "3346898a-108b-44e6-97df-58e41ce7d8d0",
   "metadata": {},
   "outputs": [
    {
     "name": "stdin",
     "output_type": "stream",
     "text": [
      "Enter the value -15\n"
     ]
    },
    {
     "data": {
      "text/plain": [
       "15.0"
      ]
     },
     "execution_count": 42,
     "metadata": {},
     "output_type": "execute_result"
    }
   ],
   "source": [
    "def absolute_value(num):\n",
    "    if num < 0:\n",
    "        return -num\n",
    "    else:\n",
    "        return num\n",
    "num = float(input(\"Enter the value\"))\n",
    "absolute_value(num)\n",
    "    "
   ]
  },
  {
   "cell_type": "markdown",
   "id": "231454ef-dd89-4943-a5bb-25c7a2dc3f5f",
   "metadata": {},
   "source": [
    "8. Develop a program that determines the largest of three given numbers using if-else statements."
   ]
  },
  {
   "cell_type": "code",
   "execution_count": 52,
   "id": "aa03afb5-37a5-4bef-8b6d-d0b9dea8995e",
   "metadata": {},
   "outputs": [
    {
     "name": "stdin",
     "output_type": "stream",
     "text": [
      "Enter 1st number 5\n",
      "Enter 2st number 15\n",
      "Enter 3st number 10\n"
     ]
    },
    {
     "name": "stdout",
     "output_type": "stream",
     "text": [
      "Num2 is greatest\n"
     ]
    }
   ],
   "source": [
    "def greater_num(num1, num2, num3):\n",
    "    if num1 >= num2 and num1 >= num3:\n",
    "        print(\"Num1 is greatest\")\n",
    "    elif num2 >= num1 and num2 >= num3:\n",
    "        print(\"Num2 is greatest\")\n",
    "    else:\n",
    "        print(\"Num3 is greatest\")\n",
    "        \n",
    "num1 = float(input(\"Enter 1st number\"))\n",
    "num2 = float(input(\"Enter 2st number\"))\n",
    "num3 = float(input(\"Enter 3st number\"))\n",
    "\n",
    "greater_num(num1,num2,num3)"
   ]
  },
  {
   "cell_type": "markdown",
   "id": "634118e5-5ee3-46ef-9e1f-ff1865f42929",
   "metadata": {},
   "source": [
    "9. Create a program that checks if a given string is a palindrome."
   ]
  },
  {
   "cell_type": "code",
   "execution_count": 55,
   "id": "ea067e87-4f23-4179-8195-e70cd78ce173",
   "metadata": {},
   "outputs": [
    {
     "name": "stdin",
     "output_type": "stream",
     "text": [
      "Enter the string hello\n"
     ]
    },
    {
     "name": "stdout",
     "output_type": "stream",
     "text": [
      "not palindrome\n"
     ]
    }
   ],
   "source": [
    "def is_palindrome(str1):\n",
    "    if str1 == str1[::-1]:\n",
    "        print(\"is palindrome\")\n",
    "    else:\n",
    "        print(\"not palindrome\")\n",
    "        \n",
    "str1 = str(input(\"Enter the string\"))\n",
    "is_palindrome(str1)"
   ]
  },
  {
   "cell_type": "markdown",
   "id": "afc18e85-1daf-4b8d-bbd8-634d1e467c4d",
   "metadata": {},
   "source": [
    "10. Write a Python program to calculate the grade based on a student's score."
   ]
  },
  {
   "cell_type": "code",
   "execution_count": 74,
   "id": "f65bf13f-df0c-4d34-8d77-e2c3a1c00273",
   "metadata": {},
   "outputs": [
    {
     "name": "stdin",
     "output_type": "stream",
     "text": [
      "Enter the score 80\n"
     ]
    },
    {
     "name": "stdout",
     "output_type": "stream",
     "text": [
      "The student has grade: B\n"
     ]
    }
   ],
   "source": [
    "def std_grade(score):\n",
    "    if score >= 90:\n",
    "        return 'A'\n",
    "    elif score >=80:\n",
    "        return 'B'\n",
    "    elif score >= 70:\n",
    "        return 'C'\n",
    "    elif score >= 60:\n",
    "        return 'D'\n",
    "    else:\n",
    "        return 'F'\n",
    "        \n",
    "try:\n",
    "    score = float(input(\"Enter the score\"))\n",
    "    grade = std_grade(score)\n",
    "    if 0 <= score <= 100:\n",
    "        print(\"The student has grade:\", grade)\n",
    "    else:\n",
    "        print(\"Invalid score, enter valid score between 1 and 100\")\n",
    "except ValueError:\n",
    "    print(\"Please enter a valid score\")\n",
    "        "
   ]
  },
  {
   "cell_type": "raw",
   "id": "8ef90a17-a93d-4e0d-8ffb-782433cfc9a4",
   "metadata": {},
   "source": []
  },
  {
   "cell_type": "raw",
   "id": "48879620-1420-4834-987f-fdf4538cdbd0",
   "metadata": {},
   "source": []
  },
  {
   "cell_type": "markdown",
   "id": "b0811baa-f0b0-49f7-bbb4-55e3c3df3d82",
   "metadata": {},
   "source": [
    "Nested If-Else Statements:"
   ]
  },
  {
   "cell_type": "markdown",
   "id": "c5c8fe85-2495-4c71-9eac-7661781a3d48",
   "metadata": {},
   "source": [
    "11. Write a program to find the largest among three numbers using nested if-else statements."
   ]
  },
  {
   "cell_type": "code",
   "execution_count": 5,
   "id": "4ea24a39-6215-4a67-b1b5-f0cc904fd4a1",
   "metadata": {},
   "outputs": [
    {
     "name": "stdin",
     "output_type": "stream",
     "text": [
      "Enter the first number:  1\n",
      "Enter the second number:  48\n",
      "Enter the third number:  5\n"
     ]
    },
    {
     "name": "stdout",
     "output_type": "stream",
     "text": [
      "The largest of 1.0, 48.0, and 5.0 is: 48.0\n"
     ]
    }
   ],
   "source": [
    "def find_largest(num1,num2,num3):\n",
    "    if  num1 >= num2:\n",
    "        if num1>= num3:\n",
    "            return num1\n",
    "        else:\n",
    "            return num3\n",
    "    else:\n",
    "        if num2 >= num3:\n",
    "            return num2\n",
    "        else:\n",
    "            return num3\n",
    "        \n",
    "number1 = float(input(\"Enter the first number: \"))\n",
    "number2 = float(input(\"Enter the second number: \"))\n",
    "number3 = float(input(\"Enter the third number: \"))   \n",
    "\n",
    "largest_number = find_largest(number1, number2, number3)\n",
    "print(f\"The largest of {number1}, {number2}, and {number3} is: {largest_number}\")\n"
   ]
  },
  {
   "cell_type": "markdown",
   "id": "a6eb2687-9819-43c0-8f7d-66b267e89956",
   "metadata": {},
   "source": [
    "12. Implement a program to determine if a triangle is equilateral, isosceles, or scalene."
   ]
  },
  {
   "cell_type": "code",
   "execution_count": null,
   "id": "5a90fe29-33bd-4983-9635-a95c2c7632ed",
   "metadata": {},
   "outputs": [],
   "source": []
  },
  {
   "cell_type": "code",
   "execution_count": 12,
   "id": "a6321073-a49f-4e5b-96fd-f15ed7031e9b",
   "metadata": {},
   "outputs": [
    {
     "name": "stdin",
     "output_type": "stream",
     "text": [
      "Enter the length of side 1:  10\n",
      "Enter the length of side 2:  10\n",
      "Enter the length of side 3:  100000\n"
     ]
    },
    {
     "name": "stdout",
     "output_type": "stream",
     "text": [
      "Invalid side length\n"
     ]
    }
   ],
   "source": [
    "def triangle_type(side1,side2,side3):\n",
    "    if side1 == side2 == side3:\n",
    "        return \"Equilateral\"\n",
    "    elif side1==side2 or side2==side3 or side1==side3:\n",
    "        return \"Isosceles\"\n",
    "    else:\n",
    "        return \"Scalene\"\n",
    "    \n",
    "try:\n",
    "    side1 = float(input(\"Enter the length of side 1: \"))\n",
    "    side2 = float(input(\"Enter the length of side 2: \"))\n",
    "    side3 = float(input(\"Enter the length of side 3: \"))\n",
    "    \n",
    "    if side1 +side2 > side3 and side2 + side3 > side1 and side3 + side1 > side2:\n",
    "        result = triangle_type(side1,side2,side3)\n",
    "        print(\"The triangle is\", result)\n",
    "    else:\n",
    "        print(\"Invalid side length\")\n",
    "except ValueError:\n",
    "    print(\"Please enter valid numeric\")"
   ]
  },
  {
   "cell_type": "markdown",
   "id": "375fec7d-b694-45eb-bf34-1ef1e96d03d6",
   "metadata": {},
   "source": [
    "13. Develop a program that checks if a year is a leap year and also if it is a century year."
   ]
  },
  {
   "cell_type": "code",
   "execution_count": 14,
   "id": "dd9bcf75-fa34-4dbc-b8da-7742f6619bec",
   "metadata": {},
   "outputs": [
    {
     "name": "stdin",
     "output_type": "stream",
     "text": [
      "Enter a year:  2000\n"
     ]
    },
    {
     "name": "stdout",
     "output_type": "stream",
     "text": [
      "2000 is a leap year and century year\n"
     ]
    }
   ],
   "source": [
    "try:\n",
    "    year = int(input(\"Enter a year: \"))\n",
    "    \n",
    "    if year % 4 == 0:\n",
    "        if year % 100 == 0:\n",
    "            if year % 400 == 0:\n",
    "                print(f\"{year} is a leap year and century year\")\n",
    "            else:\n",
    "                print(f\"{year} is not a leap year, but it's a century year.\")\n",
    "        else:\n",
    "            print(f\"{year} is a leap year, but not a century year.\")\n",
    "    else:\n",
    "        print(f\"{year} is not a leap year.\")\n",
    "except ValueError:\n",
    "        print(\"Invalid input. Please enter a numeric year.\")\n",
    "\n",
    "                "
   ]
  },
  {
   "cell_type": "markdown",
   "id": "15f17326-d5d2-41f0-91b6-a17749ff0b45",
   "metadata": {},
   "source": [
    "14. Write a Python script to determine if a number is positive, negative, or zero."
   ]
  },
  {
   "cell_type": "code",
   "execution_count": 20,
   "id": "292e2164-517a-4a27-b5f8-c65b52dbae8f",
   "metadata": {},
   "outputs": [
    {
     "name": "stdin",
     "output_type": "stream",
     "text": [
      "Enter a number -1\n"
     ]
    },
    {
     "name": "stdout",
     "output_type": "stream",
     "text": [
      "The number is negative\n"
     ]
    }
   ],
   "source": [
    "try:\n",
    "    num = float(input(\"Enter a number\"))\n",
    "    if num > 0:\n",
    "        print(\"The number is positive\")\n",
    "    elif num < 0:\n",
    "        print(\"The number is negative\")\n",
    "    else:\n",
    "        print(\"The number is 0\")\n",
    "except ValueError:\n",
    "    print(\"Please enter a valid input\")\n",
    "        "
   ]
  },
  {
   "cell_type": "markdown",
   "id": "b78787a3-c135-4a5d-8f23-50229392d112",
   "metadata": {},
   "source": [
    "15. Create a program to check if a person is a teenager (between 13 and 19 years old)."
   ]
  },
  {
   "cell_type": "code",
   "execution_count": 33,
   "id": "2889f1d4-525d-4d8e-977c-1bfdf377ad65",
   "metadata": {},
   "outputs": [
    {
     "name": "stdin",
     "output_type": "stream",
     "text": [
      "Enter your age 15\n"
     ]
    },
    {
     "name": "stdout",
     "output_type": "stream",
     "text": [
      "you are a teenager\n"
     ]
    }
   ],
   "source": [
    "try:\n",
    "    age = int(input(\"Enter your age\"))\n",
    "    if age >= 13:\n",
    "        if age <= 19:\n",
    "            print(\"you are a teenager\")\n",
    "        else:\n",
    "            print(\"Too old\")\n",
    "    else:\n",
    "        print(\"Too Young\")\n",
    "except ValueError:\n",
    "    print(\"Invalid input. Please enter a valid age as a numeric value.\")"
   ]
  },
  {
   "cell_type": "markdown",
   "id": "22c8e5ef-6fcc-4d01-bca4-86379a271506",
   "metadata": {},
   "source": [
    "16. Develop a program that determines the type of angle based on its measure (acute, obtuse, or right)."
   ]
  },
  {
   "cell_type": "code",
   "execution_count": 40,
   "id": "04bb2ecd-0b8d-46c3-8a99-c63dc78528d8",
   "metadata": {},
   "outputs": [
    {
     "name": "stdin",
     "output_type": "stream",
     "text": [
      "Enter an angle 90\n"
     ]
    },
    {
     "name": "stdout",
     "output_type": "stream",
     "text": [
      "It is right angle\n"
     ]
    }
   ],
   "source": [
    "try:\n",
    "    angle = float(input(\"Enter an angle\"))\n",
    "    if 180 > angle > 0:\n",
    "        if 90 < angle < 180:\n",
    "            print(\"Its an obtuse angle\")\n",
    "        elif 0 < angle < 90:\n",
    "            print(\"it is acute angle\")\n",
    "        else:\n",
    "            print(\"It is right angle\")\n",
    "    else:\n",
    "        print(\"please provide valid input between 0 and 180\")\n",
    "except ValueError:\n",
    "        print(\"Invalid input. Please enter a numeric angle measure.\")\n"
   ]
  },
  {
   "cell_type": "markdown",
   "id": "3ddc0292-fc29-4cb8-b97a-56761cc0751b",
   "metadata": {},
   "source": [
    "17. Write a Python program to calculate the roots of a quadratic equation."
   ]
  },
  {
   "cell_type": "code",
   "execution_count": 43,
   "id": "4233c4c6-47c6-4738-908a-c4bd3386bf88",
   "metadata": {},
   "outputs": [
    {
     "name": "stdin",
     "output_type": "stream",
     "text": [
      "Enter coefficient a:  .1\n",
      "Enter coefficient b:  .1\n",
      "Enter coefficient c:  .1\n"
     ]
    },
    {
     "name": "stdout",
     "output_type": "stream",
     "text": [
      "The roots are complex: -0.5 + 0.8660254037844387i and -0.5 - 0.8660254037844387i\n"
     ]
    }
   ],
   "source": [
    "import math\n",
    "\n",
    "try:\n",
    "    a = float(input(\"Enter coefficient a: \"))\n",
    "    b = float(input(\"Enter coefficient b: \"))\n",
    "    c = float(input(\"Enter coefficient c: \"))\n",
    "    \n",
    "    discriminant = b**2 - 4*a*c\n",
    "    \n",
    "    if discriminant > 0:\n",
    "        root1 = (-b + math.sqrt(discriminant))/(2*a)\n",
    "        root2 = (-b - math.sqrt(discriminant))/(2*a)\n",
    "        print(f\"The roots are real and distinct: {root1} and {root2}\")\n",
    "        \n",
    "    else:\n",
    "        if discriminant == 0:\n",
    "            root = (-b) / (2*a)\n",
    "            print(f\"The root is real and equal: {root}\")\n",
    "        else:\n",
    "            real_part = -b /(2*a)\n",
    "            imaginary_part = math.sqrt(abs(discriminant)) / (2*a)\n",
    "            root1 = f\"{real_part} + {imaginary_part}i\"\n",
    "            root2 = f\"{real_part} - {imaginary_part}i\"\n",
    "            print(f\"The roots are complex: {root1} and {root2}\")\n",
    "except ValueError:\n",
    "    print(\"Invalid input. Please enter numeric coefficients.\")\n",
    "    "
   ]
  },
  {
   "cell_type": "markdown",
   "id": "f19b22bd-5083-43bd-a5a4-30653fe9b59f",
   "metadata": {},
   "source": [
    "18. Implement a program to determine the day of the week based on a user-provided number (1 for Monday, 2 for Tuesday, etc.)."
   ]
  },
  {
   "cell_type": "code",
   "execution_count": 48,
   "id": "295714b8-60b3-44ca-86df-d9cdec70d0ac",
   "metadata": {},
   "outputs": [
    {
     "name": "stdin",
     "output_type": "stream",
     "text": [
      "Enter a number representing the day of the week (1 for Monday, 2 for Tuesday, etc.):  5\n"
     ]
    },
    {
     "name": "stdout",
     "output_type": "stream",
     "text": [
      "The day of the week for the provided number 5 is: Friday\n"
     ]
    }
   ],
   "source": [
    "try:\n",
    "    day_number = int(input(\"Enter a number representing the day of the week (1 for Monday, 2 for Tuesday, etc.): \"))\n",
    "    if 1 <= day_number <= 7:\n",
    "        if day_number == 1:\n",
    "            day_name = \"Monday\"\n",
    "        elif day_number == 2:\n",
    "            day_name = \"Tuesday\"\n",
    "        elif day_number == 3:\n",
    "            day_name = \"Wednesday\"\n",
    "        elif day_number == 4:\n",
    "            day_name = \"Thursday\"\n",
    "        elif day_number == 5:\n",
    "            day_name = \"Friday\"\n",
    "        elif day_number == 6:\n",
    "            day_name = \"Saturday\"\n",
    "        else:\n",
    "            day_name = \"Sunday\"\n",
    "        \n",
    "        print(f\"The day of the week for the provided number {day_number} is: {day_name}\")\n",
    "    else:\n",
    "        print(\"Invalid input. Please enter a number between 1 and 7.\")\n",
    "except ValueError:\n",
    "    print(\"Invalid input. Please enter a numeric day number.\")\n"
   ]
  },
  {
   "cell_type": "markdown",
   "id": "fde3f267-dc66-420d-ae28-05543517e5e7",
   "metadata": {},
   "source": [
    "19. Create a program that determines if a year is a leap year and also if it is evenly divisible by 400."
   ]
  },
  {
   "cell_type": "code",
   "execution_count": 50,
   "id": "e8855cfe-53e0-4a97-8fe7-a0109475f3c6",
   "metadata": {},
   "outputs": [
    {
     "name": "stdin",
     "output_type": "stream",
     "text": [
      "Enter the year 2024\n"
     ]
    },
    {
     "name": "stdout",
     "output_type": "stream",
     "text": [
      "2024 is a leap year.\n"
     ]
    }
   ],
   "source": [
    "try:\n",
    "    year = int(input(\"Enter the year\"))\n",
    "    \n",
    "    if year % 4 == 0:\n",
    "        if year % 100 == 0:\n",
    "            if year % 400 == 0:\n",
    "                print(f\"{year} is a leap year and evenly divisible by 400.\")\n",
    "            else:\n",
    "                print(f\"{year} is not a leap year.\")\n",
    "        else:\n",
    "            print(f\"{year} is a leap year.\")\n",
    "    else:\n",
    "        print(\"f{year} is not a leap year.\")\n",
    "except ValueError:\n",
    "        print(\"Invalid input. Please enter a numeric year.\")\n",
    "\n",
    "                      "
   ]
  },
  {
   "cell_type": "markdown",
   "id": "303ceaab-584b-4602-a607-b1a9ea6e8493",
   "metadata": {},
   "source": [
    "20. Develop a program that checks if a given number is prime or not using nested if-else statements."
   ]
  },
  {
   "cell_type": "code",
   "execution_count": 54,
   "id": "96595478-001a-4ffb-8ade-91fcf1cfa20e",
   "metadata": {},
   "outputs": [
    {
     "name": "stdin",
     "output_type": "stream",
     "text": [
      "Enter a number 9\n"
     ]
    },
    {
     "name": "stdout",
     "output_type": "stream",
     "text": [
      "9 is not a prime number.\n"
     ]
    }
   ],
   "source": [
    "try:\n",
    "    number = int(input(\"Enter a number\"))\n",
    "    \n",
    "    if number > 1:\n",
    "        for i in range(2, int(number**0.5) +1):\n",
    "            if number % i == 0:\n",
    "                print(f\"{number} is not a prime number.\")\n",
    "                break\n",
    "        else:\n",
    "            print(f\"{number} is a prime number.\")\n",
    "    elif number == 0 or number == 1:\n",
    "        print(f\"{number} is not a prime number.\")\n",
    "    else:\n",
    "        print(\"Invalid input. Please enter a positive integer.\")\n",
    "except ValueError:\n",
    "    print(\"Invalid input. Please enter a numeric value.\")\n",
    "                "
   ]
  },
  {
   "cell_type": "raw",
   "id": "4bab7473-4b75-40ff-bf33-433168cc8f56",
   "metadata": {},
   "source": []
  },
  {
   "cell_type": "raw",
   "id": "bf1d4e1d-09e5-4dca-9a4c-9116fb5141de",
   "metadata": {},
   "source": []
  },
  {
   "cell_type": "markdown",
   "id": "be50a37a-eb7f-410d-977d-478dfa3d7efd",
   "metadata": {},
   "source": [
    "Elif Statements:"
   ]
  },
  {
   "cell_type": "markdown",
   "id": "883453a8-793a-46fd-af6a-3c2f2209ccd5",
   "metadata": {},
   "source": [
    "21. Write a Python program to assign grades based on different ranges of scores using elif statements."
   ]
  },
  {
   "cell_type": "code",
   "execution_count": 5,
   "id": "dda0f552-58bf-4030-9583-c127f65f4553",
   "metadata": {},
   "outputs": [
    {
     "name": "stdin",
     "output_type": "stream",
     "text": [
      "Enter the student score: 101\n"
     ]
    },
    {
     "name": "stdout",
     "output_type": "stream",
     "text": [
      "Invalid Score\n",
      "The student grade is: A\n"
     ]
    }
   ],
   "source": [
    "try:\n",
    "    score = float(input(\"Enter the student score:\"))\n",
    "    \n",
    "    if 90 <= score <=100:\n",
    "        grade = 'A'\n",
    "    elif 80 <= score < 90:\n",
    "        grade = 'B'\n",
    "    elif 70 <= score < 80:\n",
    "        grade = 'C'\n",
    "    elif 60 <= score < 70:\n",
    "        grade = 'D'\n",
    "    elif 0 <= score < 60:\n",
    "        grade = 'F'   \n",
    "    else:\n",
    "        print(\"Invalid Score\")\n",
    "        exit()\n",
    "        \n",
    "    print(\"The student grade is:\", grade)\n",
    "\n",
    "except ValueError:\n",
    "    print(\"Invalid input\")\n",
    "        "
   ]
  },
  {
   "cell_type": "markdown",
   "id": "9459941b-e9e7-47e1-9c87-6bc6af6b93c3",
   "metadata": {},
   "source": [
    "22. Implement a program to determine the type of a triangle based on its angles."
   ]
  },
  {
   "cell_type": "code",
   "execution_count": 7,
   "id": "76d3fd8d-2ae7-4c3c-9e93-584e57df79ca",
   "metadata": {},
   "outputs": [
    {
     "name": "stdin",
     "output_type": "stream",
     "text": [
      "Please enter 1st angle 91\n",
      "Please enter 2nd angle 44\n",
      "Please enter 3rd angle 45\n"
     ]
    },
    {
     "name": "stdout",
     "output_type": "stream",
     "text": [
      "it is a obtuse angle\n"
     ]
    }
   ],
   "source": [
    "try:\n",
    "    angle1 = float(input(\"Please enter 1st angle\"))\n",
    "    angle2 = float(input(\"Please enter 2nd angle\"))\n",
    "    angle3 = float(input(\"Please enter 3rd angle\"))\n",
    "    \n",
    "    if angle1 + angle2 + angle3 == 180:\n",
    "        if angle1 < 90 and angle2 < 90 and angle3 < 90:\n",
    "            print(\"it is an acute angle\")\n",
    "        elif angle1 == 90 or angle2 == 90 or angle3 == 90:\n",
    "            print(\"it is a right angle triangle\")\n",
    "        else:\n",
    "            print(\"it is a obtuse angle\")\n",
    "    else:\n",
    "        print(\"invalid angles\")\n",
    "except ValueError:\n",
    "    print(\"invalid input\")"
   ]
  },
  {
   "cell_type": "markdown",
   "id": "33bfd24e-909f-4754-907c-d6e3d078a6f6",
   "metadata": {},
   "source": [
    "23. Develop a program to categorize a given person's BMI into underweight, normal, overweight, or obese using elif statements."
   ]
  },
  {
   "cell_type": "code",
   "execution_count": 11,
   "id": "ae2c4eed-9578-4da0-a47c-6352d1de3426",
   "metadata": {},
   "outputs": [
    {
     "name": "stdin",
     "output_type": "stream",
     "text": [
      "Enter the height 1.8\n",
      "Enter teh weight 80\n"
     ]
    },
    {
     "name": "stdout",
     "output_type": "stream",
     "text": [
      "If your BMI is 24.691358024691358 the you are Normal weight\n"
     ]
    }
   ],
   "source": [
    "try:\n",
    "    height = float(input(\"Enter the height\"))\n",
    "    weight = float(input(\"Enter teh weight\"))\n",
    "    \n",
    "    bmi = weight / (height**2)\n",
    "    \n",
    "    if bmi < 18.5:\n",
    "        category = \"Underweight\"\n",
    "    elif 18.5 <= bmi < 24.9:\n",
    "        category = \"Normal weight\"\n",
    "    elif 24.9 <= bmi < 29.9:\n",
    "        category = \"overweight\"\n",
    "    else:\n",
    "        category = \"Obese\"\n",
    "        \n",
    "    print(f\"If your BMI is {bmi} the you are {category}\")\n",
    "    \n",
    "except ValueError:\n",
    "    print(\"Invalid input\")\n",
    "        "
   ]
  },
  {
   "cell_type": "markdown",
   "id": "57e3d9d9-d446-43f4-8edd-3b0a7679b15d",
   "metadata": {},
   "source": [
    "24. Create a program that determines whether a given number is positive, negative, or zero using elif statements."
   ]
  },
  {
   "cell_type": "code",
   "execution_count": 14,
   "id": "3c6dcac9-87dd-401f-bd82-b94a588dc802",
   "metadata": {},
   "outputs": [
    {
     "name": "stdin",
     "output_type": "stream",
     "text": [
      "enter a number -1\n"
     ]
    },
    {
     "name": "stdout",
     "output_type": "stream",
     "text": [
      "It is a negative number\n"
     ]
    }
   ],
   "source": [
    "a = int(input(\"enter a number\"))\n",
    "if a > 0:\n",
    "        print(\"It is a positive number\")    \n",
    "elif a < 0:\n",
    "        print(\"It is a negative number\")\n",
    "else: \n",
    "    print(\"it is zero\")"
   ]
  },
  {
   "cell_type": "markdown",
   "id": "78999d76-cf18-4673-86f7-4d860f41a19c",
   "metadata": {},
   "source": [
    "25. Write a Python script to determine the type of a character (uppercase, lowercase, or special) using elif statements."
   ]
  },
  {
   "cell_type": "code",
   "execution_count": 2,
   "id": "7f32bd26-9dce-461e-ad3b-8f36ecf01e43",
   "metadata": {},
   "outputs": [
    {
     "name": "stdin",
     "output_type": "stream",
     "text": [
      "Enter a character sidd\n"
     ]
    },
    {
     "name": "stdout",
     "output_type": "stream",
     "text": [
      "Character sidd is lowercase\n"
     ]
    }
   ],
   "source": [
    "try:\n",
    "    char = input(\"Enter a character\")\n",
    "    \n",
    "    if char.isalpha():\n",
    "        if char.islower():\n",
    "            print(f\"Character {char} is lowercase\")\n",
    "        else: \n",
    "            print(f\"Character {char} is uppercase\")\n",
    "    elif char.isdigit():\n",
    "        print(f\"the character {char} is digit\")\n",
    "    else:\n",
    "        print(f\"the character {char} is special character\")\n",
    "\n",
    "except ValueError:\n",
    "    print(\"Invalid input. Enter single character\")"
   ]
  },
  {
   "cell_type": "markdown",
   "id": "358c9abd-0756-4481-9833-0e509b106f8b",
   "metadata": {},
   "source": [
    "26. Implement a program to calculate the discounted price based on different purchase amounts using elif statements."
   ]
  },
  {
   "cell_type": "code",
   "execution_count": 8,
   "id": "f0fa7915-7ae9-4238-aa70-4c93ca302395",
   "metadata": {},
   "outputs": [
    {
     "name": "stdin",
     "output_type": "stream",
     "text": [
      "Enter the amount 100\n"
     ]
    },
    {
     "name": "stdout",
     "output_type": "stream",
     "text": [
      "The discounted price is: $95.00 (Discount applied: 5%)\n"
     ]
    }
   ],
   "source": [
    "try:\n",
    "    amount = float(input(\"Enter the amount\"))\n",
    "    \n",
    "    if amount <= 50:\n",
    "        discount_per = 0\n",
    "    elif 50 < amount <=100:\n",
    "        discount_per = 5\n",
    "    elif 100 < amount <= 150:\n",
    "        discount_per = 10\n",
    "    elif 150 < amount <= 200:\n",
    "        discount_per = 15\n",
    "    else:\n",
    "        discount_per = 20\n",
    "    \n",
    "    discount = (discount_per / 100) * amount\n",
    "    discount_value = amount - discount\n",
    "    \n",
    "    print(f\"The discounted price is: ${discount_value:.2f} (Discount applied: {discount_per}%)\")\n",
    "except ValueError:\n",
    "    print(\"Invalid input. Please enter a numeric purchase amount.\")\n",
    "    \n",
    "        \n",
    "        "
   ]
  },
  {
   "cell_type": "markdown",
   "id": "ed616814-f1da-439e-851e-489022860f82",
   "metadata": {},
   "source": [
    "27. Develop a program to calculate the electricity bill based on different consumption slabs using elif statements."
   ]
  },
  {
   "cell_type": "code",
   "execution_count": 14,
   "id": "26607f5c-dcdb-445a-85b4-19eb059d5819",
   "metadata": {},
   "outputs": [
    {
     "name": "stdin",
     "output_type": "stream",
     "text": [
      "Enter the electricity consumption 99\n"
     ]
    },
    {
     "name": "stdout",
     "output_type": "stream",
     "text": [
      "The electricity bill for consumption of 99.0 units is = 594.0\n"
     ]
    }
   ],
   "source": [
    "try:\n",
    "    consumption = float(input(\"Enter the electricity consumption\"))\n",
    "    rate_slab1 = 6\n",
    "    rate_slab2 = 7\n",
    "    rate_slab3 = 8\n",
    "    \n",
    "    if consumption <= 100:\n",
    "        bill = consumption * rate_slab1\n",
    "    elif 100 < consumption <=200:\n",
    "        bill = consumption * rate_slab2\n",
    "    else:\n",
    "        bill = consumption * rate_slab3\n",
    "        \n",
    "    print(f\"The electricity bill for consumption of {consumption} units is = {bill}\")\n",
    "    \n",
    "except ValueError:\n",
    "    print(\"Invalid input. Please enter a numeric electricity consumption.\")    "
   ]
  },
  {
   "cell_type": "markdown",
   "id": "47498ddc-0e27-4bda-b804-6af0a9e98c98",
   "metadata": {},
   "source": [
    "28. Create a program to determine the type of quadrilateral based on its angles and sides using elif statements."
   ]
  },
  {
   "cell_type": "code",
   "execution_count": 16,
   "id": "adf57d36-a022-4aee-8144-cd29c891a9b2",
   "metadata": {},
   "outputs": [
    {
     "name": "stdin",
     "output_type": "stream",
     "text": [
      "Enter the first angle of the quadrilateral:  90\n",
      "Enter the second angle of the quadrilateral:  90\n",
      "Enter the third angle of the quadrilateral:  90\n",
      "Enter the fourth angle of the quadrilateral:  90\n",
      "Enter the length of the first side:  10\n",
      "Enter the length of the second side:  20\n",
      "Enter the length of the third side:  10\n",
      "Enter the length of the fourth side:  20\n"
     ]
    },
    {
     "name": "stdout",
     "output_type": "stream",
     "text": [
      "The quadrilateral is a rectangle.\n"
     ]
    }
   ],
   "source": [
    "try:\n",
    "    angle1 = float(input(\"Enter the first angle of the quadrilateral: \"))\n",
    "    angle2 = float(input(\"Enter the second angle of the quadrilateral: \"))\n",
    "    angle3 = float(input(\"Enter the third angle of the quadrilateral: \"))\n",
    "    angle4 = float(input(\"Enter the fourth angle of the quadrilateral: \"))\n",
    "\n",
    "    side1 = float(input(\"Enter the length of the first side: \"))\n",
    "    side2 = float(input(\"Enter the length of the second side: \"))\n",
    "    side3 = float(input(\"Enter the length of the third side: \"))\n",
    "    side4 = float(input(\"Enter the length of the fourth side: \"))\n",
    "\n",
    "    if angle1 + angle2 + angle3 + angle4 == 360:\n",
    "        if side1 == side2 == side3 == side4:\n",
    "            print(\"The quadrilateral is a square.\")\n",
    "        elif (angle1 == angle3 and angle2 == angle4) or (angle1 == angle2 and angle3 == angle4):\n",
    "            if side1 == side3 and side2 == side4:\n",
    "                print(\"The quadrilateral is a rectangle.\")\n",
    "            else:\n",
    "                print(\"The quadrilateral is a parallelogram.\")\n",
    "        elif side1 == side3 and side2 == side4:\n",
    "            print(\"The quadrilateral is a rhombus.\")\n",
    "        else:\n",
    "            \n",
    "            print(\"The quadrilateral is a general quadrilateral.\")\n",
    "    else:\n",
    "        print(\"Invalid angles. The sum of angles in a quadrilateral should be 360 degrees.\")\n",
    "except ValueError:\n",
    "    print(\"Invalid input. Please enter numeric values for angles and sides.\")\n"
   ]
  },
  {
   "cell_type": "markdown",
   "id": "3df8586e-fff8-4890-9184-de9bba45bd79",
   "metadata": {},
   "source": [
    "29. Write a Python script to determine the season based on a user-provided month using elif statements."
   ]
  },
  {
   "cell_type": "code",
   "execution_count": 6,
   "id": "d670681c-20fb-4ea1-8120-90518a8aec0f",
   "metadata": {},
   "outputs": [
    {
     "name": "stdin",
     "output_type": "stream",
     "text": [
      "please enter a month from 1 to 12: 9\n"
     ]
    },
    {
     "name": "stdout",
     "output_type": "stream",
     "text": [
      "The season for the month 9 is: Fall\n"
     ]
    }
   ],
   "source": [
    "try:\n",
    "    month = int(input(\"please enter a month from 1 to 12:\"))\n",
    "    if 1 <= month <= 12:\n",
    "        if 3 <= month <= 5:\n",
    "            season = 'Spring'\n",
    "        elif 6 <= month <= 8:\n",
    "            season = 'Summer'\n",
    "        elif 9 <= month <= 11:\n",
    "            season = 'Fall'\n",
    "        else:\n",
    "            season = 'Winter'\n",
    "            \n",
    "        print(f\"The season for the month {month} is: {season}\")\n",
    "        \n",
    "    else:\n",
    "        print(\"Please enter valid month\")\n",
    "except ValueError:\n",
    "    print(\"Invalid value\")"
   ]
  },
  {
   "cell_type": "markdown",
   "id": "fa47b743-6335-41b7-bfd3-e19200e8ff43",
   "metadata": {},
   "source": [
    "30. Implement a program to determine the type of a year (leap or common) and month (30 or 31 days) using elif statements."
   ]
  },
  {
   "cell_type": "code",
   "execution_count": 9,
   "id": "d2f71ed2-26b1-4422-9640-b2dd2c26de80",
   "metadata": {},
   "outputs": [
    {
     "name": "stdin",
     "output_type": "stream",
     "text": [
      "please enter the year:  2024\n",
      "please enter the month (1-12):  2\n"
     ]
    },
    {
     "name": "stdout",
     "output_type": "stream",
     "text": [
      "The year 2024 is a leap year.\n",
      "The month 2 has 29 days.\n"
     ]
    }
   ],
   "source": [
    "try:\n",
    "    year = int(input(\"please enter the year: \"))\n",
    "    month = int(input(\"please enter the month (1-12): \"))\n",
    "    \n",
    "    if year % 4 == 0:\n",
    "        if year % 100 == 0:\n",
    "            if year % 400 == 0:\n",
    "                year_type = 'leap'\n",
    "            else:\n",
    "                year_type = 'Common'\n",
    "        else:\n",
    "            year_type = 'leap'\n",
    "    else:\n",
    "        year_type = 'Common'\n",
    "        \n",
    "    if 1 <= month <= 12:\n",
    "        if month in {1, 3, 5, 7, 8, 10, 12}:\n",
    "            days_in_month = 31\n",
    "        elif month in {4, 6, 9, 11}:\n",
    "            days_in_month = 30\n",
    "        else:\n",
    "            days_in_month = 29 if year_type == 'leap' else 28\n",
    "            \n",
    "        print(f\"The year {year} is a {year_type} year.\")\n",
    "        print(f\"The month {month} has {days_in_month} days.\")\n",
    "    else:\n",
    "        print(\"Invalid input. Please enter a valid year (positive integer) and month (1-12).\")\n",
    "except ValueError:\n",
    "    print(\"Invalid input. Please enter numeric values for year and month.\") "
   ]
  },
  {
   "cell_type": "code",
   "execution_count": null,
   "id": "3af5ec73-01e7-425f-9992-3179796a67e6",
   "metadata": {},
   "outputs": [],
   "source": []
  },
  {
   "cell_type": "code",
   "execution_count": null,
   "id": "ccbc8750-abc2-4e57-9df5-9150ecde4f70",
   "metadata": {},
   "outputs": [],
   "source": []
  },
  {
   "cell_type": "code",
   "execution_count": null,
   "id": "ad119a43-c44f-4241-b89e-d0b108036efa",
   "metadata": {},
   "outputs": [],
   "source": []
  },
  {
   "cell_type": "markdown",
   "id": "3cbf8c05-5bab-4bbd-b570-2a8480f5374b",
   "metadata": {},
   "source": [
    "Basic Level:"
   ]
  },
  {
   "cell_type": "markdown",
   "id": "47cd739f-5ce6-4251-8337-52f98dd902c7",
   "metadata": {},
   "source": [
    "1. Write a Python program that checks if a given number is positive, negative, or zero."
   ]
  },
  {
   "cell_type": "code",
   "execution_count": 16,
   "id": "e3cfb408-f41d-464b-a525-9b92a87b662e",
   "metadata": {},
   "outputs": [
    {
     "name": "stdin",
     "output_type": "stream",
     "text": [
      "Please enter the number 0\n"
     ]
    },
    {
     "name": "stdout",
     "output_type": "stream",
     "text": [
      "Number is zero\n"
     ]
    }
   ],
   "source": [
    "try:\n",
    "    num = float(input(\"Please enter the number\"))\n",
    "    \n",
    "    if num > 0:\n",
    "        print(\"Number is positive\")\n",
    "    elif num < 0:\n",
    "        print(\"Number is negative\")\n",
    "    else:\n",
    "        print(\"Number is zero\")\n",
    "except ValueError:\n",
    "    print(\"Enter correct input\")"
   ]
  },
  {
   "cell_type": "markdown",
   "id": "90b9e1a1-5f6c-4839-927f-d17a1f830eba",
   "metadata": {},
   "source": [
    "2. Create a program to determine if a person is eligible to vote based on their age."
   ]
  },
  {
   "cell_type": "code",
   "execution_count": 20,
   "id": "cabbb903-6cfa-4d4c-8ff1-05166f5328b8",
   "metadata": {},
   "outputs": [
    {
     "name": "stdin",
     "output_type": "stream",
     "text": [
      "Enter your age:  17\n"
     ]
    },
    {
     "name": "stdout",
     "output_type": "stream",
     "text": [
      "Grow up\n"
     ]
    }
   ],
   "source": [
    "try:\n",
    "    age = int(input(\"Enter your age: \"))\n",
    "    if age >= 18:\n",
    "        print(\"you can vote\")\n",
    "    else:\n",
    "        print(\"Grow up\")\n",
    "except ValueError:  \n",
    "    print(\"Enter correct input\")"
   ]
  },
  {
   "cell_type": "markdown",
   "id": "c91a1c95-b245-424f-933f-2ab70df633bc",
   "metadata": {},
   "source": [
    "3. Write a program to find the maximum of two given numbers using conditional statements."
   ]
  },
  {
   "cell_type": "code",
   "execution_count": 21,
   "id": "7fca5c1b-5ef9-4f66-9958-01096bc079a2",
   "metadata": {},
   "outputs": [
    {
     "name": "stdin",
     "output_type": "stream",
     "text": [
      "Enter the score 62\n"
     ]
    },
    {
     "name": "stdout",
     "output_type": "stream",
     "text": [
      "The student has grade: D\n"
     ]
    }
   ],
   "source": [
    "def std_grade(score):\n",
    "    if score >= 90:\n",
    "        return 'A'\n",
    "    elif score >=80:\n",
    "        return 'B'\n",
    "    elif score >= 70:\n",
    "        return 'C'\n",
    "    elif score >= 60:\n",
    "        return 'D'\n",
    "    else:\n",
    "        return 'F'\n",
    "        \n",
    "try:\n",
    "    score = float(input(\"Enter the score\"))\n",
    "    grade = std_grade(score)\n",
    "    if 0 <= score <= 100:\n",
    "        print(\"The student has grade:\", grade)\n",
    "    else:\n",
    "        print(\"Invalid score, enter valid score between 1 and 100\")\n",
    "except ValueError:\n",
    "    print(\"Please enter a valid score\")\n",
    "        "
   ]
  },
  {
   "cell_type": "markdown",
   "id": "bb033c19-1183-4993-82dd-0877c788ac83",
   "metadata": {},
   "source": [
    "5. Create a program that checks if a year is a leap year or not."
   ]
  },
  {
   "cell_type": "code",
   "execution_count": 22,
   "id": "359caf8e-2086-498a-9156-3c92322f66b1",
   "metadata": {},
   "outputs": [
    {
     "name": "stdin",
     "output_type": "stream",
     "text": [
      "Enter a year:  2024\n"
     ]
    },
    {
     "name": "stdout",
     "output_type": "stream",
     "text": [
      "2024 is a leap year.\n"
     ]
    }
   ],
   "source": [
    "\n",
    "try:\n",
    "    year = int(input(\"Enter a year: \"))\n",
    "\n",
    "    if (year % 4 == 0 and year % 100 != 0) or (year % 400 == 0):\n",
    "        print(f\"{year} is a leap year.\")\n",
    "    else:\n",
    "        print(f\"{year} is not a leap year.\")\n",
    "except ValueError:\n",
    "    print(\"Invalid input. Please enter a numeric year.\")\n"
   ]
  },
  {
   "cell_type": "markdown",
   "id": "0c6fd368-ead8-4df1-8a4f-bcc6012d43fb",
   "metadata": {},
   "source": [
    "6. Write a program to classify a triangle based on its sides' lengths."
   ]
  },
  {
   "cell_type": "code",
   "execution_count": 29,
   "id": "1eb0ab7e-59aa-419c-ae18-2e29522a4fcd",
   "metadata": {},
   "outputs": [
    {
     "name": "stdin",
     "output_type": "stream",
     "text": [
      "Enter the length of side 1:  5\n",
      "Enter the length of side 2:  5\n",
      "Enter the length of side 3:  5\n"
     ]
    },
    {
     "name": "stdout",
     "output_type": "stream",
     "text": [
      "The triangle is a Equilateral triangle.\n"
     ]
    }
   ],
   "source": [
    "try:\n",
    "    side1 = float(input(\"Enter the length of side 1: \"))\n",
    "    side2 = float(input(\"Enter the length of side 2: \"))\n",
    "    side3 = float(input(\"Enter the length of side 3: \"))\n",
    "\n",
    "    if side1 + side2 > side3 and side1 + side3 > side2 and side2 + side3 > side1:\n",
    "        if side1 == side2 == side3:\n",
    "            triangle_type = \"Equilateral\"\n",
    "        elif side1 == side2 or side1 == side3 or side2 == side3:\n",
    "            triangle_type = \"Isosceles\"\n",
    "        else:\n",
    "            triangle_type = \"Scalene\"\n",
    "\n",
    "        print(f\"The triangle is a {triangle_type} triangle.\")\n",
    "    else:\n",
    "        print(\"Invalid input. The given side lengths cannot form a triangle.\")\n",
    "except ValueError:\n",
    "    print(\"Invalid input. Please enter numeric values for side lengths.\")\n"
   ]
  },
  {
   "cell_type": "markdown",
   "id": "4eb389f9-aa96-410f-8da1-6d6ac1bc74a9",
   "metadata": {},
   "source": [
    "7. Build a program that determines the largest of three given numbers."
   ]
  },
  {
   "cell_type": "code",
   "execution_count": 30,
   "id": "8c4d80bf-8b78-431a-b50d-66142dc91318",
   "metadata": {},
   "outputs": [
    {
     "name": "stdin",
     "output_type": "stream",
     "text": [
      "Enter 1st number 1\n",
      "Enter 2st number 2\n",
      "Enter 3st number 3\n"
     ]
    },
    {
     "name": "stdout",
     "output_type": "stream",
     "text": [
      "Num3 is greatest\n"
     ]
    }
   ],
   "source": [
    "num1 = float(input(\"Enter 1st number\"))\n",
    "num2 = float(input(\"Enter 2st number\"))\n",
    "num3 = float(input(\"Enter 3st number\"))\n",
    "\n",
    "if num1 > num2 and num1 > num3:\n",
    "    print(\"Num1 is greatest\")\n",
    "elif num2> num1 and num2> num3:\n",
    "    print(\"Num2 is greatest\")\n",
    "else:\n",
    "    print(\"Num3 is greatest\")"
   ]
  },
  {
   "cell_type": "markdown",
   "id": "39e79c38-e3b0-4c8f-9a8d-5c39b55bc7f1",
   "metadata": {},
   "source": [
    "8. Develop a program that checks whether a character is a vowel or a consonant."
   ]
  },
  {
   "cell_type": "code",
   "execution_count": 32,
   "id": "bb80e7ba-c85b-49c4-b16b-0eed2afa93a5",
   "metadata": {},
   "outputs": [
    {
     "name": "stdin",
     "output_type": "stream",
     "text": [
      "enter the character s\n"
     ]
    },
    {
     "name": "stdout",
     "output_type": "stream",
     "text": [
      "char is consonant\n"
     ]
    }
   ],
   "source": [
    "char = input(\"enter the character\")\n",
    "if char.lower() in ['a','e','i','o','u']:\n",
    "    print(\"char is vowel\")\n",
    "else:\n",
    "    print(\"char is consonant\")"
   ]
  },
  {
   "cell_type": "markdown",
   "id": "4add9f8f-c0ee-4bf5-be7a-3e5e94ce8a82",
   "metadata": {},
   "source": [
    "9. Create a program to calculate the total cost of a shopping cart based on discounts."
   ]
  },
  {
   "cell_type": "code",
   "execution_count": 33,
   "id": "fc68c580-97f8-4978-9206-90737a523fe9",
   "metadata": {},
   "outputs": [
    {
     "name": "stdin",
     "output_type": "stream",
     "text": [
      "Enter the amount 220\n"
     ]
    },
    {
     "name": "stdout",
     "output_type": "stream",
     "text": [
      "The discounted price is: $176.00 (Discount applied: 20%)\n"
     ]
    }
   ],
   "source": [
    "try:\n",
    "    amount = float(input(\"Enter the amount\"))\n",
    "    \n",
    "    if amount <= 50:\n",
    "        discount_per = 0\n",
    "    elif 50 < amount <=100:\n",
    "        discount_per = 5\n",
    "    elif 100 < amount <= 150:\n",
    "        discount_per = 10\n",
    "    elif 150 < amount <= 200:\n",
    "        discount_per = 15\n",
    "    else:\n",
    "        discount_per = 20\n",
    "    \n",
    "    discount = (discount_per / 100) * amount\n",
    "    discount_value = amount - discount\n",
    "    \n",
    "    print(f\"The discounted price is: ${discount_value:.2f} (Discount applied: {discount_per}%)\")\n",
    "except ValueError:\n",
    "    print(\"Invalid input. Please enter a numeric purchase amount.\")"
   ]
  },
  {
   "cell_type": "markdown",
   "id": "b46fb149-356b-4d6b-a89b-893c8038b979",
   "metadata": {},
   "source": [
    "10. Write a program that checks if a given number is even or odd."
   ]
  },
  {
   "cell_type": "code",
   "execution_count": 42,
   "id": "bc9cfb4d-955c-42a5-a2e6-db1bcc0eca83",
   "metadata": {},
   "outputs": [
    {
     "name": "stdin",
     "output_type": "stream",
     "text": [
      "enter the number 6\n"
     ]
    },
    {
     "name": "stdout",
     "output_type": "stream",
     "text": [
      "Number is even\n"
     ]
    }
   ],
   "source": [
    "n = float(input(\"enter the number\"))\n",
    "if n % 2== 0:\n",
    "    print(\"Number is even\")\n",
    "else:\n",
    "    print(\"Number is odd\")"
   ]
  },
  {
   "cell_type": "markdown",
   "id": "ce0e1bbd-ef0f-417e-b308-e22fc62c4ddd",
   "metadata": {},
   "source": [
    "Intermediate Level:"
   ]
  },
  {
   "cell_type": "markdown",
   "id": "64c7c6bf-6e0c-4cbc-bb72-c357f89d0cdd",
   "metadata": {},
   "source": [
    "11. Write a program that calculates the roots of a quadratic equation ."
   ]
  },
  {
   "cell_type": "code",
   "execution_count": 43,
   "id": "2b5580c8-b3ae-431e-8dde-dd9333c0bc63",
   "metadata": {},
   "outputs": [
    {
     "name": "stdin",
     "output_type": "stream",
     "text": [
      "Enter coefficient a:  10\n",
      "Enter coefficient b:  10\n",
      "Enter coefficient c:  10\n"
     ]
    },
    {
     "name": "stdout",
     "output_type": "stream",
     "text": [
      "The roots are complex: -0.5 + 0.8660254037844387i and -0.5 - 0.8660254037844387i\n"
     ]
    }
   ],
   "source": [
    "import math\n",
    "\n",
    "try:\n",
    "    a = float(input(\"Enter coefficient a: \"))\n",
    "    b = float(input(\"Enter coefficient b: \"))\n",
    "    c = float(input(\"Enter coefficient c: \"))\n",
    "    \n",
    "    discriminant = b**2 - 4*a*c\n",
    "    \n",
    "    if discriminant > 0:\n",
    "        root1 = (-b + math.sqrt(discriminant))/(2*a)\n",
    "        root2 = (-b - math.sqrt(discriminant))/(2*a)\n",
    "        print(f\"The roots are real and distinct: {root1} and {root2}\")\n",
    "        \n",
    "    else:\n",
    "        if discriminant == 0:\n",
    "            root = (-b) / (2*a)\n",
    "            print(f\"The root is real and equal: {root}\")\n",
    "        else:\n",
    "            real_part = -b /(2*a)\n",
    "            imaginary_part = math.sqrt(abs(discriminant)) / (2*a)\n",
    "            root1 = f\"{real_part} + {imaginary_part}i\"\n",
    "            root2 = f\"{real_part} - {imaginary_part}i\"\n",
    "            print(f\"The roots are complex: {root1} and {root2}\")\n",
    "except ValueError:\n",
    "    print(\"Invalid input. Please enter numeric coefficients.\")\n",
    "    "
   ]
  },
  {
   "cell_type": "markdown",
   "id": "143128e8-a5cd-4ddb-8172-bd6060c444ce",
   "metadata": {},
   "source": [
    "12. Create a program that determines the day of the week based on the day number (1-7)."
   ]
  },
  {
   "cell_type": "code",
   "execution_count": 44,
   "id": "068f23a0-9d4e-4003-ad80-36321749e29e",
   "metadata": {},
   "outputs": [
    {
     "name": "stdin",
     "output_type": "stream",
     "text": [
      "Enter a number representing the day of the week (1 for Monday, 2 for Tuesday, etc.):  5\n"
     ]
    },
    {
     "name": "stdout",
     "output_type": "stream",
     "text": [
      "The day of the week for the provided number 5 is: Friday\n"
     ]
    }
   ],
   "source": [
    "try:\n",
    "    day_number = int(input(\"Enter a number representing the day of the week (1 for Monday, 2 for Tuesday, etc.): \"))\n",
    "    if 1 <= day_number <= 7:\n",
    "        if day_number == 1:\n",
    "            day_name = \"Monday\"\n",
    "        elif day_number == 2:\n",
    "            day_name = \"Tuesday\"\n",
    "        elif day_number == 3:\n",
    "            day_name = \"Wednesday\"\n",
    "        elif day_number == 4:\n",
    "            day_name = \"Thursday\"\n",
    "        elif day_number == 5:\n",
    "            day_name = \"Friday\"\n",
    "        elif day_number == 6:\n",
    "            day_name = \"Saturday\"\n",
    "        else:\n",
    "            day_name = \"Sunday\"\n",
    "        \n",
    "        print(f\"The day of the week for the provided number {day_number} is: {day_name}\")\n",
    "    else:\n",
    "        print(\"Invalid input. Please enter a number between 1 and 7.\")\n",
    "except ValueError:\n",
    "    print(\"Invalid input. Please enter a numeric day number.\")\n"
   ]
  },
  {
   "cell_type": "markdown",
   "id": "6310f3f2-37dc-4cf5-be68-7546506fbc8b",
   "metadata": {},
   "source": [
    "13. Develop a program that calculates the factorial of a given number using recursion."
   ]
  },
  {
   "cell_type": "code",
   "execution_count": 48,
   "id": "252b91e4-7164-4ad3-9e7b-444d4392cae3",
   "metadata": {},
   "outputs": [
    {
     "name": "stdin",
     "output_type": "stream",
     "text": [
      "Enter a number:  3\n"
     ]
    },
    {
     "name": "stdout",
     "output_type": "stream",
     "text": [
      "The factorial of 3 is 6\n"
     ]
    }
   ],
   "source": [
    "def factorial(n):\n",
    "    if n == 0 or n == 1:\n",
    "        return 1\n",
    "    else:\n",
    "        return n * factorial(n-1)\n",
    "    \n",
    "try:\n",
    "    num = int(input(\"Enter a number: \"))\n",
    "    if num < 0 :\n",
    "        print(\"Enter positive number\")\n",
    "    else:\n",
    "        result = factorial(num)\n",
    "        print(f\"The factorial of {num} is {result}\")\n",
    "except ValueError:\n",
    "    print(\"Invalid input. Please enter a non-negative integer.\")        "
   ]
  },
  {
   "cell_type": "markdown",
   "id": "2cfa1fab-261b-4f1c-8f14-6a82c11e5886",
   "metadata": {},
   "source": [
    "14. Write a program to find the largest among three numbers without using the `max()` function."
   ]
  },
  {
   "cell_type": "code",
   "execution_count": 49,
   "id": "7cabac5f-bef4-4494-b236-82cbcf607212",
   "metadata": {},
   "outputs": [
    {
     "name": "stdin",
     "output_type": "stream",
     "text": [
      "Enter 1st number 1\n",
      "Enter 2st number 2\n",
      "Enter 3st number 3\n"
     ]
    },
    {
     "name": "stdout",
     "output_type": "stream",
     "text": [
      "Num3 is greatest\n"
     ]
    }
   ],
   "source": [
    "num1 = float(input(\"Enter 1st number\"))\n",
    "num2 = float(input(\"Enter 2st number\"))\n",
    "num3 = float(input(\"Enter 3st number\"))\n",
    "\n",
    "if num1 > num2 and num1 > num3:\n",
    "    print(\"Num1 is greatest\")\n",
    "elif num2> num1 and num2> num3:\n",
    "    print(\"Num2 is greatest\")\n",
    "else:\n",
    "    print(\"Num3 is greatest\")"
   ]
  },
  {
   "cell_type": "markdown",
   "id": "0c66d426-7ce1-4d32-942a-1e10639f6a5b",
   "metadata": {},
   "source": [
    "15. Create a program that simulates a basic ATM transaction menu."
   ]
  },
  {
   "cell_type": "code",
   "execution_count": 60,
   "id": "a32ae63c-d163-40b7-aeaf-e4899e42a720",
   "metadata": {},
   "outputs": [
    {
     "name": "stdin",
     "output_type": "stream",
     "text": [
      "Enter your initial balance: Rs 600\n"
     ]
    },
    {
     "name": "stdout",
     "output_type": "stream",
     "text": [
      "\n",
      "ATM Transaction Menu:\n",
      "1. Check Balance\n",
      "2. Deposit Money\n",
      "3. Withdraw Money\n",
      "4. Exit\n"
     ]
    },
    {
     "name": "stdin",
     "output_type": "stream",
     "text": [
      "Enter your choice from 1 to 4 3\n",
      "Enter the amount to withdraw 100\n"
     ]
    },
    {
     "name": "stdout",
     "output_type": "stream",
     "text": [
      "100 has been withdrawn from your account\n",
      "\n",
      "ATM Transaction Menu:\n",
      "1. Check Balance\n",
      "2. Deposit Money\n",
      "3. Withdraw Money\n",
      "4. Exit\n"
     ]
    },
    {
     "name": "stdin",
     "output_type": "stream",
     "text": [
      "Enter your choice from 1 to 4 1\n"
     ]
    },
    {
     "name": "stdout",
     "output_type": "stream",
     "text": [
      "Your current balance is: 500.00\n",
      "\n",
      "ATM Transaction Menu:\n",
      "1. Check Balance\n",
      "2. Deposit Money\n",
      "3. Withdraw Money\n",
      "4. Exit\n"
     ]
    },
    {
     "name": "stdin",
     "output_type": "stream",
     "text": [
      "Enter your choice from 1 to 4 3\n",
      "Enter the amount to withdraw \n"
     ]
    },
    {
     "name": "stdout",
     "output_type": "stream",
     "text": [
      "Invalid input. Please enter a numeric choice.\n",
      "\n",
      "ATM Transaction Menu:\n",
      "1. Check Balance\n",
      "2. Deposit Money\n",
      "3. Withdraw Money\n",
      "4. Exit\n"
     ]
    },
    {
     "name": "stdin",
     "output_type": "stream",
     "text": [
      "Enter your choice from 1 to 4 3\n",
      "Enter the amount to withdraw 450\n"
     ]
    },
    {
     "name": "stdout",
     "output_type": "stream",
     "text": [
      "450 has been withdrawn from your account\n",
      "\n",
      "ATM Transaction Menu:\n",
      "1. Check Balance\n",
      "2. Deposit Money\n",
      "3. Withdraw Money\n",
      "4. Exit\n"
     ]
    },
    {
     "name": "stdin",
     "output_type": "stream",
     "text": [
      "Enter your choice from 1 to 4 1\n"
     ]
    },
    {
     "name": "stdout",
     "output_type": "stream",
     "text": [
      "Your current balance is: 50.00\n",
      "\n",
      "ATM Transaction Menu:\n",
      "1. Check Balance\n",
      "2. Deposit Money\n",
      "3. Withdraw Money\n",
      "4. Exit\n"
     ]
    },
    {
     "name": "stdin",
     "output_type": "stream",
     "text": [
      "Enter your choice from 1 to 4 4\n"
     ]
    },
    {
     "name": "stdout",
     "output_type": "stream",
     "text": [
      "Thank you for using the ATM. Have a great day!\n"
     ]
    }
   ],
   "source": [
    "def atm_simulation(balance):\n",
    "    while True:\n",
    "        print(\"\\nATM Transaction Menu:\")\n",
    "        print(\"1. Check Balance\")\n",
    "        print(\"2. Deposit Money\")\n",
    "        print(\"3. Withdraw Money\")\n",
    "        print(\"4. Exit\")\n",
    "        \n",
    "        try:\n",
    "            choice = int(input(\"Enter your choice from 1 to 4\"))\n",
    "            \n",
    "            if choice == 1:\n",
    "                print(f\"Your current balance is: {balance:.2f}\")\n",
    "            elif choice == 2:\n",
    "                deposit_amount = int(input(\"Enter the amount to deposit\"))\n",
    "                balance += deposit_amount\n",
    "                print(f\"{deposit_amount} has been deposited to your account\")\n",
    "            elif choice == 3:\n",
    "                withdraw_amount = int(input(\"Enter the amount to withdraw\"))\n",
    "                if balance > withdraw_amount:\n",
    "                    balance -= withdraw_amount\n",
    "                    print(f\"{withdraw_amount} has been withdrawn from your account\")\n",
    "                else:\n",
    "                    print(\"insufficient balance\")\n",
    "            elif choice == 4:\n",
    "                print(\"Thank you for using the ATM. Have a great day!\")\n",
    "                break\n",
    "            else:\n",
    "                print(\"Invalid choice. Enter number between 1 and 4\")\n",
    "                \n",
    "        except ValueError:\n",
    "            print(\"Invalid input. Please enter a numeric choice.\")\n",
    "        \n",
    "try:\n",
    "    initial_balance = float(input(\"Enter your initial balance: Rs\"))\n",
    "    atm_simulation(initial_balance)\n",
    "except ValueError:\n",
    "    print(\"Invalid input. Please enter a numeric initial balance.\")                \n",
    "                "
   ]
  },
  {
   "cell_type": "markdown",
   "id": "d0bfca99-b264-4c52-9c89-13294ceb8c0b",
   "metadata": {},
   "source": [
    "16. Build a program that checks if a given string is a palindrome or not."
   ]
  },
  {
   "cell_type": "code",
   "execution_count": 52,
   "id": "cae75a6e-e916-4a6b-a7d3-87c1c0fd8e87",
   "metadata": {},
   "outputs": [
    {
     "name": "stdin",
     "output_type": "stream",
     "text": [
      "Enter the string rer\n"
     ]
    },
    {
     "name": "stdout",
     "output_type": "stream",
     "text": [
      "Is Palindrome\n"
     ]
    }
   ],
   "source": [
    "string1 = input(\"Enter the string\")\n",
    "if string1 == string1[::-1]:\n",
    "    print(\"Is Palindrome\")\n",
    "else:\n",
    "    print(\"not palindrome\")"
   ]
  },
  {
   "cell_type": "markdown",
   "id": "a12a6f0f-24fa-4154-b059-d674b4f5fe3e",
   "metadata": {},
   "source": [
    "17. Write a program that calculates the average of a list of numbers, excluding the smallest and largest values."
   ]
  },
  {
   "cell_type": "code",
   "execution_count": 67,
   "id": "d7843eaf-a903-4e1f-ad75-775ea8221e49",
   "metadata": {},
   "outputs": [
    {
     "name": "stdin",
     "output_type": "stream",
     "text": [
      "Enter a list of numbers separated by spaces:  1 2 3 4 5 6\n"
     ]
    },
    {
     "name": "stdout",
     "output_type": "stream",
     "text": [
      "The average (excluding the smallest and largest values) is: 3.50\n"
     ]
    }
   ],
   "source": [
    "def calculate_avg(numbers):\n",
    "    if len(numbers) < 3:\n",
    "        return \"Not enough number\"\n",
    "    \n",
    "    smallest = min(numbers)\n",
    "    largest = max(numbers)\n",
    "    \n",
    "    excluded_sum = sum(num for num in numbers if num != smallest and num != largest)\n",
    "    excluded_count = len(numbers) - 2 \n",
    "\n",
    "    average = excluded_sum / excluded_count\n",
    "    return average\n",
    "\n",
    "try:\n",
    "    numbers = [float(x) for x in input(\"Enter a list of numbers separated by spaces: \").split()]\n",
    "    result = calculate_avg(numbers)\n",
    "    print(f\"The average (excluding the smallest and largest values) is: {result:.2f}\")\n",
    "except ValueError:\n",
    "    print(\"Invalid input. Please enter numeric values separated by spaces.\")\n",
    "        "
   ]
  },
  {
   "cell_type": "markdown",
   "id": "8c8d090b-b595-4650-bbc3-dd8594c86f89",
   "metadata": {},
   "source": [
    "18. Develop a program that converts a given temperature from Celsius to Fahrenheit."
   ]
  },
  {
   "cell_type": "code",
   "execution_count": 68,
   "id": "080ded02-82ad-43a3-a6c3-7432dea54ec4",
   "metadata": {},
   "outputs": [
    {
     "name": "stdin",
     "output_type": "stream",
     "text": [
      "Enter the temperature in Celsius:  32\n"
     ]
    },
    {
     "name": "stdout",
     "output_type": "stream",
     "text": [
      "32.0 degrees Celsius is equal to 89.60 degrees Fahrenheit.\n"
     ]
    }
   ],
   "source": [
    "def celsius_to_fahrenheit(celsius):\n",
    "    return (celsius * 9/5) + 32\n",
    "\n",
    "try:\n",
    "    celsius_temperature = float(input(\"Enter the temperature in Celsius: \"))\n",
    "    fahrenheit_temperature = celsius_to_fahrenheit(celsius_temperature)\n",
    "    print(f\"{celsius_temperature} degrees Celsius is equal to {fahrenheit_temperature:.2f} degrees Fahrenheit.\")\n",
    "except ValueError:\n",
    "    print(\"Invalid input. Please enter a numeric temperature in Celsius.\")"
   ]
  },
  {
   "cell_type": "markdown",
   "id": "a4bde385-20f9-43c2-a912-f466febd9401",
   "metadata": {},
   "source": [
    "19. Create a program that simulates a basic calculator for addition, subtraction, multiplication, and division."
   ]
  },
  {
   "cell_type": "code",
   "execution_count": 88,
   "id": "1523592a-8e13-448b-b9bc-2cc6b698bcf3",
   "metadata": {},
   "outputs": [
    {
     "name": "stdin",
     "output_type": "stream",
     "text": [
      "Enter the number:  2\n",
      "Enter the number:  4\n"
     ]
    },
    {
     "name": "stdout",
     "output_type": "stream",
     "text": [
      "\n",
      "Select operation:\n",
      "1. Addition\n",
      "2. Subtraction\n",
      "3. Multiplication\n",
      "4. Division\n"
     ]
    },
    {
     "name": "stdin",
     "output_type": "stream",
     "text": [
      "Select operation 4\n"
     ]
    },
    {
     "name": "stdout",
     "output_type": "stream",
     "text": [
      "\n",
      "result of the operation is: 0.5\n"
     ]
    }
   ],
   "source": [
    "try:\n",
    "    num1 = float(input(\"Enter the number: \"))\n",
    "    num2 = float(input(\"Enter the number: \"))\n",
    "                 \n",
    "    print(\"\\nSelect operation:\")\n",
    "    print(\"1. Addition\")\n",
    "    print(\"2. Subtraction\")\n",
    "    print(\"3. Multiplication\")\n",
    "    print(\"4. Division\") \n",
    "    \n",
    "    operation = int(input(\"Select operation\"))\n",
    "    \n",
    "    if operation == 1:\n",
    "        result = num1 + num2\n",
    "    elif operation == 2:\n",
    "        result = num1 - num2\n",
    "    elif operation == 3:\n",
    "        result = num1 * num2\n",
    "    elif operation == 4:\n",
    "        result = num1 / num2\n",
    "    else:\n",
    "        print(\"Enter valid inout\")\n",
    "    print(\"\\nresult of the operation is:\", result)\n",
    "except ValueError:\n",
    "    print(\"Invalid input. Please enter numeric values for numbers.\")    \n",
    "   \n",
    "\n",
    "       "
   ]
  },
  {
   "cell_type": "markdown",
   "id": "528d5e63-7f6c-4de8-be99-c40ef128ebf2",
   "metadata": {},
   "source": [
    "20. Write a program that determines the roots of a cubic equation using the Cardano formula."
   ]
  },
  {
   "cell_type": "code",
   "execution_count": null,
   "id": "70ecfb86-fd0e-4247-ba54-e21505f02f0e",
   "metadata": {},
   "outputs": [],
   "source": []
  },
  {
   "cell_type": "markdown",
   "id": "5363765d-d373-405f-bfe8-0f64f9ac86d1",
   "metadata": {},
   "source": [
    "Advanced Level:"
   ]
  },
  {
   "cell_type": "markdown",
   "id": "bd9ee975-a32e-4cc6-8338-1ee76dfd32e6",
   "metadata": {},
   "source": [
    "21. Create a program that calculates the income tax based on the user's income and tax brackets."
   ]
  },
  {
   "cell_type": "code",
   "execution_count": 92,
   "id": "c299baf6-75a6-486f-932c-b917307d7a5d",
   "metadata": {},
   "outputs": [
    {
     "name": "stdin",
     "output_type": "stream",
     "text": [
      "Enter your income: $ 15000\n"
     ]
    },
    {
     "name": "stdout",
     "output_type": "stream",
     "text": [
      "\n",
      "Your income tax is: $150000.00\n"
     ]
    }
   ],
   "source": [
    "def calculate_income_tax(income):\n",
    "    if income <= 0:\n",
    "        return \"Invalid income. Please enter a positive value.\"\n",
    "\n",
    "    brackets = [5000, 10000, 150000, float('inf')]\n",
    "    rates = [5, 10, 15, 20]\n",
    "\n",
    "    tax = 0\n",
    "    remaining_income = income\n",
    "\n",
    "    for i in range(len(brackets)):\n",
    "        if remaining_income > 0:\n",
    "            if i == len(brackets) - 1:\n",
    "                tax += remaining_income * rates[i]\n",
    "            else:\n",
    "                taxable_amount = min(remaining_income, brackets[i] - (brackets[i - 1] if i > 0 else 0))\n",
    "                tax += taxable_amount * rates[i]\n",
    "\n",
    "            remaining_income -= taxable_amount\n",
    "\n",
    "    return tax\n",
    "\n",
    "try:\n",
    "    income = float(input(\"Enter your income: $\"))\n",
    "    tax = calculate_income_tax(income)\n",
    "    print(f\"\\nYour income tax is: ${tax:.2f}\")\n",
    "except ValueError:\n",
    "    print(\"Invalid input. Please enter a numeric income.\")\n"
   ]
  },
  {
   "cell_type": "markdown",
   "id": "d620b1cb-7a4c-4307-a3dc-1551f145139a",
   "metadata": {},
   "source": [
    "22. Write a program that simulates a rock-paper-scissors game against the computer."
   ]
  },
  {
   "cell_type": "code",
   "execution_count": 6,
   "id": "03c947a8-1b41-46db-8c8a-7f84a188a30d",
   "metadata": {},
   "outputs": [
    {
     "name": "stdout",
     "output_type": "stream",
     "text": [
      "Choose one: Rock, Paper or Scissors\n"
     ]
    },
    {
     "name": "stdin",
     "output_type": "stream",
     "text": [
      " rock\n"
     ]
    },
    {
     "name": "stdout",
     "output_type": "stream",
     "text": [
      "\n",
      "You chose Rock\n",
      "Computer chose Scissors\n",
      "You Win!\n"
     ]
    },
    {
     "name": "stdin",
     "output_type": "stream",
     "text": [
      "Do you want to play again? (Yes/No):  yes\n"
     ]
    },
    {
     "name": "stdout",
     "output_type": "stream",
     "text": [
      "Choose one: Rock, Paper or Scissors\n"
     ]
    },
    {
     "name": "stdin",
     "output_type": "stream",
     "text": [
      " rock\n"
     ]
    },
    {
     "name": "stdout",
     "output_type": "stream",
     "text": [
      "\n",
      "You chose Rock\n",
      "Computer chose Rock\n",
      "It's a tie!\n"
     ]
    },
    {
     "name": "stdin",
     "output_type": "stream",
     "text": [
      "Do you want to play again? (Yes/No):  yes\n"
     ]
    },
    {
     "name": "stdout",
     "output_type": "stream",
     "text": [
      "Choose one: Rock, Paper or Scissors\n"
     ]
    },
    {
     "name": "stdin",
     "output_type": "stream",
     "text": [
      " paper\n"
     ]
    },
    {
     "name": "stdout",
     "output_type": "stream",
     "text": [
      "\n",
      "You chose Paper\n",
      "Computer chose Rock\n",
      "You Win!\n"
     ]
    },
    {
     "name": "stdin",
     "output_type": "stream",
     "text": [
      "Do you want to play again? (Yes/No):  no\n"
     ]
    },
    {
     "name": "stdout",
     "output_type": "stream",
     "text": [
      "Thanks for playing! Goodbye!\n"
     ]
    }
   ],
   "source": [
    "import random\n",
    "\n",
    "def get_user_choice():\n",
    "    print(\"Choose one: Rock, Paper or Scissors\")\n",
    "    user_choice = input().capitalize()\n",
    "    while user_choice not in [\"Rock\",\"Paper\",\"Scissors\"]:\n",
    "        print(\"Invalid choice. Please choose Rock, Paper, or Scissors\")\n",
    "        user_choice = input().capitalize()\n",
    "    return user_choice\n",
    "\n",
    "def get_computer_choice():\n",
    "    return random.choice([\"Rock\",\"Paper\",\"Scissors\"])\n",
    "\n",
    "def determine_winner(user_choice, computer_choice):\n",
    "    if user_choice == computer_choice:\n",
    "        return \"It's a tie!\"\n",
    "    elif (\n",
    "        (user_choice == \"Rock\" and computer_choice == \"Scissors\") or\n",
    "        (user_choice == \"Paper\" and computer_choice == \"Rock\") or \n",
    "        (user_choice == \"Scissors\" and computer_choice == \"Paper\")\n",
    "    ):\n",
    "        return \"You Win!\"\n",
    "    else:\n",
    "        return \"Computer Wins!\"\n",
    "    \n",
    "while True:\n",
    "    user_choice = get_user_choice()\n",
    "    computer_choice = get_computer_choice()\n",
    "    \n",
    "    print(f\"\\nYou chose {user_choice}\")\n",
    "    print(f\"Computer chose {computer_choice}\")\n",
    "    \n",
    "    result = determine_winner(user_choice, computer_choice)\n",
    "    print(result)\n",
    "    \n",
    "    play_again = input(\"Do you want to play again? (Yes/No): \").lower()\n",
    "    if play_again != 'yes':\n",
    "        print(\"Thanks for playing! Goodbye!\")\n",
    "        break\n",
    "    "
   ]
  },
  {
   "cell_type": "markdown",
   "id": "98aacb5a-4a73-4cd6-877b-53f53612c247",
   "metadata": {},
   "source": [
    "23. Develop a program that generates a random password based on user preferences (length, complexity)."
   ]
  },
  {
   "cell_type": "code",
   "execution_count": 14,
   "id": "494a30da-f96e-4637-860f-cbc85e7d6316",
   "metadata": {},
   "outputs": [
    {
     "name": "stdin",
     "output_type": "stream",
     "text": [
      "Enter desired password length:  15\n",
      "Include lowercase letter? (Yes/No):  yes\n",
      "Include uppercase letter? (Yes/No):  yes\n",
      "Include numbers? (Yes/No):  yes\n",
      "Include special characters? (Yes/No):  yes\n"
     ]
    },
    {
     "name": "stdout",
     "output_type": "stream",
     "text": [
      "\n",
      "Generated password: 8BK}eC[sq0:+p}I\n"
     ]
    }
   ],
   "source": [
    "import random\n",
    "import string\n",
    "\n",
    "def generate_password(length, upper_case, lower_case, digitss, special_chars):\n",
    "    characters = \"\"\n",
    "    \n",
    "    if lower_case:\n",
    "        characters += string.ascii_lowercase\n",
    "    if upper_case:\n",
    "        characters += string.ascii_uppercase\n",
    "    if digitss:\n",
    "        characters += string.digits\n",
    "    if special_chars:\n",
    "        characters += string.punctuation\n",
    "        \n",
    "    if not characters:\n",
    "        print(\"Error: Please enter atleast 1 character type\")\n",
    "        return None\n",
    "    \n",
    "    password = ''.join(random.choice(characters) for _ in range(length))\n",
    "    return password\n",
    "\n",
    "try:\n",
    "    length = int(input(\"Enter desired password length: \"))\n",
    "    lower_case = input(\"Include lowercase letter? (Yes/No): \").lower() == 'yes'\n",
    "    upper_case = input(\"Include uppercase letter? (Yes/No): \").lower() == 'yes'\n",
    "    digitss = input(\"Include numbers? (Yes/No): \").lower() == 'yes'\n",
    "    special_chars = input(\"Include special characters? (Yes/No): \").lower() == 'yes'\n",
    "    \n",
    "    password = generate_password(length, upper_case,lower_case,digitss,special_chars)\n",
    "    if password:\n",
    "        print(\"\\nGenerated password:\", password)\n",
    "except ValueError:\n",
    "    print(\"Invalid input. Please enter a valid password length (a positive integer).\")        "
   ]
  },
  {
   "cell_type": "markdown",
   "id": "c2e0b5db-2c39-4856-8615-5b7984c3772b",
   "metadata": {},
   "source": [
    "24. Create a program that implements a simple text-based adventure game with branching scenarios."
   ]
  },
  {
   "cell_type": "code",
   "execution_count": 2,
   "id": "9d2f21ab-b2b7-4b88-9a02-9d120cc02c88",
   "metadata": {},
   "outputs": [
    {
     "name": "stdout",
     "output_type": "stream",
     "text": [
      "Welcome to the adventure game!\n",
      "You are at the cross-roads of dark forest.\n",
      "Which path will you chose?\n",
      "1. chose to take the left path.\n",
      "2. chose to take the right path\n"
     ]
    },
    {
     "name": "stdin",
     "output_type": "stream",
     "text": [
      "Enter your choice (1 or 2): 2\n"
     ]
    },
    {
     "name": "stdout",
     "output_type": "stream",
     "text": [
      "You chose right path.\n",
      "The path leads you to a hidden treasure chest!\n",
      "What will you do?\n",
      "1. Open the treasure chest.\n",
      "2. Leave the treasure and go back to the crossroads.\n"
     ]
    },
    {
     "name": "stdin",
     "output_type": "stream",
     "text": [
      "Enter your choice (1 or 2):  1\n"
     ]
    },
    {
     "name": "stdout",
     "output_type": "stream",
     "text": [
      "You open the treasure chest and find valuable items.\n",
      "Congratulations! You've completed the adventure!\n"
     ]
    }
   ],
   "source": [
    "import time\n",
    "\n",
    "def introduction():\n",
    "    print(\"Welcome to the adventure game!\")\n",
    "    time.sleep(1)\n",
    "    print(\"You are at the cross-roads of dark forest.\")\n",
    "    time.sleep(1)\n",
    "    print(\"Which path will you chose?\")\n",
    "    \n",
    "def chose_path():\n",
    "    print(\"1. chose to take the left path.\")\n",
    "    print(\"2. chose to take the right path\")\n",
    "    choice = int(input(\"Enter your choice (1 or 2):\"))\n",
    "    return choice\n",
    "                 \n",
    "def left_path():\n",
    "    print(\"You chose the left path.\")\n",
    "    time.sleep(1)\n",
    "    print(\"As you walk deeper into the forest, you encounter a mysterious creature.\")\n",
    "    time.sleep(1)\n",
    "    print(\"What will you do?\")\n",
    "    time.sleep(1)\n",
    "    print(\"1. Try to communicate with the creature.\")\n",
    "    print(\"2. Retreat and go back to the crossroads.\")\n",
    "    time.sleep(1)\n",
    "    choice = int(input(\"Enter your choice (1 or 2):\"))\n",
    "    return choice\n",
    "\n",
    "def right_path():\n",
    "    print(\"You chose right path.\")\n",
    "    time.sleep(1)\n",
    "    print(\"The path leads you to a hidden treasure chest!\")\n",
    "    time.sleep(1)\n",
    "    print(\"What will you do?\")\n",
    "    time.sleep(1)\n",
    "    print(\"1. Open the treasure chest.\")\n",
    "    print(\"2. Leave the treasure and go back to the crossroads.\")\n",
    "    choice = int(input(\"Enter your choice (1 or 2): \"))\n",
    "    return choice\n",
    "\n",
    "def communicate_with_creature():\n",
    "    print(\"You decide to communicate with the mysterious creature.\")\n",
    "    time.sleep(1)\n",
    "    print(\"Surprisingly, it turns out to be a friendly forest spirit.\")\n",
    "    time.sleep(1)\n",
    "    print(\"The spirit offers you a magical item as a reward.\")\n",
    "    time.sleep(1)\n",
    "    print(\"Congratulations! You've completed the adventure!\")\n",
    "\n",
    "def open_treasure_chest():\n",
    "    print(\"You open the treasure chest and find valuable items.\")\n",
    "    time.sleep(1)\n",
    "    print(\"Congratulations! You've completed the adventure!\")\n",
    "    \n",
    "def main():\n",
    "    introduction()\n",
    "    \n",
    "    path_choice = chose_path()\n",
    "    \n",
    "    if  path_choice == 1:\n",
    "        left_choice = left_path()\n",
    "        \n",
    "        if left_choice == 1:\n",
    "            communicate_with_creature()\n",
    "        elif left_choice == 2:\n",
    "            print(\"You chose to quitely leave the forest. (coward)\")\n",
    "        else:\n",
    "            print(\"Invalid choice. Adventure ends\")\n",
    "            \n",
    "    elif path_choice == 2:\n",
    "        right_choice = right_path()\n",
    "        \n",
    "        if right_choice == 1:\n",
    "            open_treasure_chest()\n",
    "        elif right_choice == 2:\n",
    "            print(\"You decide to leave the treasure and return to the crossroads. The adventure continues.\")\n",
    "        else:\n",
    "            print(\"Invalid choice. Adventure ends\")\n",
    "            \n",
    "    else:\n",
    "        print(\"Invalid choice. Adventure ends\")\n",
    "        \n",
    "if __name__ == \"__main__\":\n",
    "    main()\n",
    "            "
   ]
  },
  {
   "cell_type": "markdown",
   "id": "4470ed60-1f6e-4975-95ec-7245e7a8f2e5",
   "metadata": {},
   "source": [
    "25. Build a program that solves a linear equation for x, considering different cases."
   ]
  },
  {
   "cell_type": "code",
   "execution_count": 3,
   "id": "31de71a8-1193-46f9-830c-dc03b628a478",
   "metadata": {},
   "outputs": [
    {
     "name": "stdout",
     "output_type": "stream",
     "text": [
      "Enter the coefficient for linear equation (ax + b = 0)\n"
     ]
    },
    {
     "name": "stdin",
     "output_type": "stream",
     "text": [
      "Enter the coefficient 'a':  2\n",
      "Enter the coefficient 'b':  3\n"
     ]
    },
    {
     "name": "stdout",
     "output_type": "stream",
     "text": [
      "the solution for linear equation 2.0x + 3.0 = 0 is x = -1.5\n"
     ]
    }
   ],
   "source": [
    "def solve_linear_equation(a,b):\n",
    "    if a == 0:\n",
    "        if b == 0:\n",
    "            return \"Infinite solutions\"\n",
    "        else:\n",
    "            return \"no soln\"\n",
    "    else:\n",
    "        x = -b / a\n",
    "        return f\"the solution for linear equation {a}x + {b} = 0 is x = {x}\"\n",
    "\n",
    "def main():\n",
    "    print(\"Enter the coefficient for linear equation (ax + b = 0)\")\n",
    "    try:\n",
    "        a = float(input(\"Enter the coefficient 'a': \"))\n",
    "        b = float(input(\"Enter the coefficient 'b': \"))\n",
    "        \n",
    "        result = solve_linear_equation(a,b)\n",
    "        print(result)\n",
    "        \n",
    "    except ValueError:\n",
    "        print(\"Invalid input. Please enter numeric coefficients.\")\n",
    "        \n",
    "if __name__ == \"__main__\":\n",
    "    main()        \n",
    "        "
   ]
  },
  {
   "cell_type": "markdown",
   "id": "5805a586-75f3-4d3d-95d0-133ba52c5af4",
   "metadata": {},
   "source": [
    "26. Write a program that simulates a basic quiz game with multiple-choice questions and scoring."
   ]
  },
  {
   "cell_type": "code",
   "execution_count": 20,
   "id": "41fdc9df-3fcc-4872-8c5e-481989be96bd",
   "metadata": {},
   "outputs": [
    {
     "name": "stdout",
     "output_type": "stream",
     "text": [
      "Welcome to quiz game?\n",
      "What is the capital of India?\n",
      "1. New Delhi\n",
      "2. Mumbai\n",
      "3. Assam\n",
      "4. Surat\n"
     ]
    },
    {
     "name": "stdin",
     "output_type": "stream",
     "text": [
      "Enter your answer: 1,2,3,4  1\n"
     ]
    },
    {
     "name": "stdout",
     "output_type": "stream",
     "text": [
      "Correct answer\n",
      "\n",
      "Which planet is known as the Red Planet?\n",
      "1. Mars\n",
      "2. Venus\n",
      "3. Jupiter\n",
      "4. Saturn\n"
     ]
    },
    {
     "name": "stdin",
     "output_type": "stream",
     "text": [
      "Enter your answer: 1,2,3,4  1\n"
     ]
    },
    {
     "name": "stdout",
     "output_type": "stream",
     "text": [
      "Correct answer\n",
      "\n",
      "What is the largest mammal?\n",
      "1. Elephant\n",
      "2. Blue Whale\n",
      "3. Giraffe\n",
      "4. Hippopotamus\n"
     ]
    },
    {
     "name": "stdin",
     "output_type": "stream",
     "text": [
      "Enter your answer: 1,2,3,4  2\n"
     ]
    },
    {
     "name": "stdout",
     "output_type": "stream",
     "text": [
      "Correct answer\n",
      "\n",
      "Quiz completed! Your final score is: 3/3\n"
     ]
    }
   ],
   "source": [
    "import time\n",
    "\n",
    "def display_question(question, choices):\n",
    "    print(question)\n",
    "    for i, choice in enumerate(choices, start=1):        \n",
    "        print(f\"{i}. {choice}\")\n",
    "\n",
    "    answer = int(input(\"Enter your answer: 1,2,3,4 \"))\n",
    "    return answer\n",
    "                 \n",
    "def quiz(): \n",
    "    questions = [\n",
    "        {\n",
    "            'question' : 'What is the capital of India?',\n",
    "            'choices' : ['New Delhi' , 'Mumbai' , 'Assam' , 'Surat'],\n",
    "            'correct_answer' : 1\n",
    "        },\n",
    "        {\n",
    "            'question': 'Which planet is known as the Red Planet?',\n",
    "            'choices': ['Mars', 'Venus', 'Jupiter', 'Saturn'],\n",
    "            'correct_answer': 1\n",
    "        },\n",
    "        {\n",
    "            'question': 'What is the largest mammal?',\n",
    "            'choices': ['Elephant', 'Blue Whale', 'Giraffe', 'Hippopotamus'],\n",
    "            'correct_answer': 2\n",
    "        }\n",
    "    ]\n",
    "    \n",
    "    score = 0\n",
    "    print(\"Welcome to quiz game?\")\n",
    "    time.sleep(1)\n",
    "    \n",
    "    for question_data in questions:\n",
    "        current_question = question_data['question']\n",
    "        choices = question_data['choices']\n",
    "        correct_answer = question_data['correct_answer']\n",
    "        \n",
    "        user_answer = display_question(current_question, choices)\n",
    "        \n",
    "        if user_answer == correct_answer:\n",
    "            print(\"Correct answer\\n\")\n",
    "            score += 1\n",
    "        else:\n",
    "            print(f\"Wrong! The correct answer is {correct_answer}: {choices[correct_answer - 1]}\\n\")\n",
    "            \n",
    "            time.sleep(1)\n",
    "\n",
    "    print(f\"Quiz completed! Your final score is: {score}/{len(questions)}\")\n",
    "\n",
    "if __name__ == \"__main__\":\n",
    "    quiz()\n",
    "            \n",
    "    "
   ]
  },
  {
   "cell_type": "markdown",
   "id": "e97fcb37-0ff8-4fbf-8571-aeb59df474a9",
   "metadata": {},
   "source": [
    "27. Develop a program that determines whether a given year is a prime number or not."
   ]
  },
  {
   "cell_type": "code",
   "execution_count": 22,
   "id": "1549efbb-2d84-48ac-92e8-725cd5b4ab2e",
   "metadata": {},
   "outputs": [
    {
     "name": "stdin",
     "output_type": "stream",
     "text": [
      "Enter a year:  7\n"
     ]
    },
    {
     "name": "stdout",
     "output_type": "stream",
     "text": [
      "7 is a prime year.\n"
     ]
    }
   ],
   "source": [
    "def is_prime(year):\n",
    "    if year < 2:\n",
    "        return False\n",
    "    for i in range(2, int(year ** 0.5) +1):\n",
    "        if year%i == 0:\n",
    "            return False\n",
    "    return True    \n",
    "\n",
    "try:\n",
    "    year = int(input(\"Enter a year: \"))\n",
    "    if is_prime(year):\n",
    "        print(f\"{year} is a prime year.\")\n",
    "    else:\n",
    "        print(f\"{year} is not a prime year.\")\n",
    "except ValueError:\n",
    "    print(\"Invalid input. Please enter a valid year.\")\n"
   ]
  },
  {
   "cell_type": "markdown",
   "id": "4f97021c-577f-4baf-89f5-939dc5ea56a2",
   "metadata": {},
   "source": [
    "28. Create a program that sorts three numbers in ascending order using conditional statements."
   ]
  },
  {
   "cell_type": "code",
   "execution_count": 29,
   "id": "2694ac10-b724-42b9-87be-43e79afc6e12",
   "metadata": {},
   "outputs": [
    {
     "name": "stdin",
     "output_type": "stream",
     "text": [
      "Enter 1 number 1\n",
      "Enter 2 number 2\n",
      "Enter 3 number 3\n"
     ]
    },
    {
     "name": "stdout",
     "output_type": "stream",
     "text": [
      "[3, 2, 1]\n"
     ]
    }
   ],
   "source": [
    "def sorted_number(num1, num2, num3):\n",
    "    if num1 >= num2 >= num3:\n",
    "        return num1,num2,num3\n",
    "    elif num1>= num3 >= num2:\n",
    "        return num1,num3,num2\n",
    "    elif num2>=num1>=num3:\n",
    "        return num2,num1,num3\n",
    "    elif num2>=num3>=num1:\n",
    "        return num2,num3,num1\n",
    "    elif num3>=num1>=num2:\n",
    "        return num3,num1,num2\n",
    "    else:\n",
    "        return [num3,num2,num1]\n",
    "        \n",
    "try:\n",
    "    num1=int(input(\"Enter 1 number\"))\n",
    "    num2=int(input(\"Enter 2 number\"))\n",
    "    num3=int(input(\"Enter 3 number\"))\n",
    "    \n",
    "    result = sorted_number(num1,num2,num3)\n",
    "    print(result)\n",
    "    \n",
    "except ValueError:\n",
    "    print(\"Wrong input\")"
   ]
  },
  {
   "cell_type": "markdown",
   "id": "1a72d40d-7782-4ede-b724-9c2e0af53ad6",
   "metadata": {},
   "source": [
    "29. Build a program that determines the roots of a quartic equation using numerical methods."
   ]
  },
  {
   "cell_type": "raw",
   "id": "93ea4778-3136-4f73-aea9-a7da7ec38df4",
   "metadata": {},
   "source": [
    "def quaratic_equation(x,a,b,c,d,e):\n",
    "    return a*x**4 + b*x**3+ c*x**2+ d*x+e\n",
    "\n",
    "def derivative_quartic(x, a, b, c, d):\n",
    "    return 4 * a * x**3 + 3 * b * x**2 + 2 * c * x + d\n",
    "\n",
    "def newton_raphson_quartic(a, b, c, d, e, initial_guess, tolerance=1e-6, max_iterations=100):\n",
    "    x = initial_guess\n",
    "    \n",
    "    for _ in range(max_iterations):\n",
    "        f_x = quaratic_equation(x,a,b,c,d,e)\n",
    "        f_prime_x = derivative_quartic(x, a, b, c, d)\n",
    "        \n",
    "        if abs(f_x) < tolerance:\n",
    "            return x\n",
    "\n",
    "        x = x - f_x / f_prime_x\n",
    "\n",
    "    return None\n",
    "\n",
    "try:\n",
    "    a = float(input(\"Enter coefficient a: \"))\n",
    "    b = float(input(\"Enter coefficient b: \"))\n",
    "    c = float(input(\"Enter coefficient c: \"))\n",
    "    d = float(input(\"Enter coefficient d: \"))\n",
    "    e = float(input(\"Enter constant term e: \"))\n",
    "\n",
    "    initial_guess = float(input(\"Enter initial guess for the root: \"))\n",
    "\n",
    "    root = newton_raphson_quartic(a, b, c, d, e, initial_guess)\n",
    "\n",
    "    if root is not None:\n",
    "        print(f\"The root of the quartic equation is approximately: {root}\")\n",
    "    else:\n",
    "        print(\"Newton-Raphson method did not converge.\")\n",
    "except ValueError:\n",
    "    print(\"Invalid input. Please enter valid numeric values.\")\n",
    "        "
   ]
  },
  {
   "cell_type": "markdown",
   "id": "f947482a-4b6b-46f0-934a-f51b28d76d6c",
   "metadata": {},
   "source": [
    "30. Write a program that calculates the BMI (Body Mass Index) and provides health recommendations based on the user's input."
   ]
  },
  {
   "cell_type": "code",
   "execution_count": 33,
   "id": "2d90148a-0cd3-4335-b73a-b90be71a6d07",
   "metadata": {},
   "outputs": [
    {
     "name": "stdin",
     "output_type": "stream",
     "text": [
      "Enter your weight in kilograms:  78\n",
      "Enter your height in meters:  1.8\n"
     ]
    },
    {
     "name": "stdout",
     "output_type": "stream",
     "text": [
      "Your BMI is: 24.07\n",
      "You are classified as: normal weight\n"
     ]
    }
   ],
   "source": [
    "def calculate_bmi(weight, height):\n",
    "    bmi = weight / height**2\n",
    "    return bmi\n",
    "\n",
    "def health_recomendation(bmi):\n",
    "    if bmi<18.5:\n",
    "        return \"underweight\"\n",
    "    elif 18.5<= bmi <= 24.5:\n",
    "        return \"normal weight\"\n",
    "    elif 24.6 <= bmi <=29:\n",
    "        return \"overweight\"\n",
    "    else:\n",
    "        return \"obese\"\n",
    "    \n",
    "try:\n",
    "    weight = float(input(\"Enter your weight in kilograms: \"))\n",
    "    height = float(input(\"Enter your height in meters: \"))\n",
    "    \n",
    "    if weight > 0 and height > 0:\n",
    "        bmi = calculate_bmi(weight, height)\n",
    "        print(f\"Your BMI is: {bmi:.2f}\")\n",
    "        \n",
    "        recomendation = health_recomendation(bmi)\n",
    "        print(f\"You are classified as: {recomendation}\")\n",
    "        \n",
    "    else:\n",
    "        print(\"Weight and height must be positive values.\")\n",
    "except ValueError:\n",
    "    print(\"Invalid input. Please enter valid numeric values.\")    "
   ]
  },
  {
   "cell_type": "code",
   "execution_count": null,
   "id": "0d973375-5770-47d5-ae66-13320cc5a90e",
   "metadata": {},
   "outputs": [],
   "source": []
  },
  {
   "cell_type": "code",
   "execution_count": null,
   "id": "56c74673-093b-4c9f-9476-83578500f5ed",
   "metadata": {},
   "outputs": [],
   "source": []
  },
  {
   "cell_type": "markdown",
   "id": "de2824c2-bb13-4523-93f9-3db1f16d7af4",
   "metadata": {},
   "source": [
    "Challenge Level:"
   ]
  },
  {
   "cell_type": "markdown",
   "id": "231b7409-fd7f-4af4-b9b8-33e1d2c04341",
   "metadata": {},
   "source": [
    "31. Create a program that validates a password based on complexity rules (length, characters, etc.)."
   ]
  },
  {
   "cell_type": "code",
   "execution_count": 5,
   "id": "4b41fc1a-a240-40e5-a063-c4aae932490d",
   "metadata": {},
   "outputs": [
    {
     "name": "stdin",
     "output_type": "stream",
     "text": [
      "Enter your password P@ssw0rd\n"
     ]
    },
    {
     "name": "stdout",
     "output_type": "stream",
     "text": [
      "Password is valid\n"
     ]
    }
   ],
   "source": [
    "import re\n",
    "\n",
    "def validates_password(password):\n",
    "    if len(password) < 8:\n",
    "        return False\n",
    "    if not re.search(\"[A-Z]\", password):\n",
    "        return False\n",
    "    if not re.search(\"[a-z]\", password):\n",
    "        return false\n",
    "    if not re.search(\"[0-9]\", password):\n",
    "        return False\n",
    "    if not re.search(\"[!@#$%^&*]\", password):\n",
    "        return False\n",
    "    \n",
    "    return True, \"password is valid\"\n",
    "\n",
    "try:\n",
    "    password = input(\"Enter your password\")\n",
    "    \n",
    "    is_valid = validates_password(password)\n",
    "    \n",
    "    if is_valid:\n",
    "        print(\"Password is valid\")\n",
    "    else:\n",
    "        print(\"Password is not valid\")\n",
    "        \n",
    "except Exception as e:\n",
    "    print(f\"Error: {e}\")\n",
    "    \n"
   ]
  },
  {
   "cell_type": "markdown",
   "id": "324f100b-24ac-43df-8e4b-20123850a3ef",
   "metadata": {},
   "source": [
    "32. Develop a program that performs matrix addition and subtraction based on user input."
   ]
  },
  {
   "cell_type": "code",
   "execution_count": 12,
   "id": "d5e65584-1031-42d6-a834-c7ed362367d2",
   "metadata": {},
   "outputs": [
    {
     "name": "stdout",
     "output_type": "stream",
     "text": [
      "Elements of first matrix: \n",
      " [[1 2]\n",
      " [3 4]]\n",
      "Elements of second matrix: \n",
      " [[4 5]\n",
      " [6 7]]\n",
      "Addition of two matrix: \n",
      " [[ 5  7]\n",
      " [ 9 11]]\n",
      "Subtraction of two matrix: \n",
      " [[-3 -3]\n",
      " [-3 -3]]\n"
     ]
    }
   ],
   "source": [
    "import numpy as np\n",
    "\n",
    "\n",
    "a = np.array([[1,2],[3,4]])\n",
    "b = np.array([[4,5],[6,7]])\n",
    "\n",
    "print(\"Elements of first matrix: \\n\", a)\n",
    "print(\"Elements of second matrix: \\n\", b)\n",
    "\n",
    "print(\"Addition of two matrix: \\n\", (np.add(a,b)))\n",
    "\n",
    "print(\"Subtraction of two matrix: \\n\", (np.subtract(a,b)))"
   ]
  },
  {
   "cell_type": "markdown",
   "id": "dc51b0ad-d574-4077-aae8-31a7715cbfb4",
   "metadata": {},
   "source": [
    "33. Write a program that calculates the greatest common divisor (GCD) of two numbers using the Euclidean algorithm."
   ]
  },
  {
   "cell_type": "code",
   "execution_count": 25,
   "id": "da0dccad-c63d-429a-991f-794c3cb2e57c",
   "metadata": {},
   "outputs": [
    {
     "name": "stdin",
     "output_type": "stream",
     "text": [
      "Enter the first number:  18\n",
      "Enter the second number:  30\n"
     ]
    },
    {
     "name": "stdout",
     "output_type": "stream",
     "text": [
      "GCD of 18 and 30 is 6\n"
     ]
    }
   ],
   "source": [
    "def gcd(a,b):\n",
    "    while b:\n",
    "        a, b = b, a % b\n",
    "    return a\n",
    "    \n",
    "try:\n",
    "    num1 = int(input(\"Enter the first number: \"))\n",
    "    num2 = int(input(\"Enter the second number: \"))\n",
    "        \n",
    "    if num1<0 or num2<0:\n",
    "        raise ValueError(\"Please enter positive integer\")\n",
    "        \n",
    "    result = gcd(num1,num2)\n",
    "    print(f\"GCD of {num1} and {num2} is {result}\")\n",
    "        \n",
    "except ValueError as ve:\n",
    "    print(f\"Invalid input: {ve}\")\n",
    "\n",
    "            "
   ]
  },
  {
   "cell_type": "markdown",
   "id": "307546b0-30a0-4715-939c-4c376c84c6d8",
   "metadata": {},
   "source": [
    "34. Build a program that performs matrix multiplication using nested loops and conditional statements."
   ]
  },
  {
   "cell_type": "code",
   "execution_count": 1,
   "id": "4054e88e-c1a0-45da-bb19-58c3169f6254",
   "metadata": {},
   "outputs": [
    {
     "name": "stdout",
     "output_type": "stream",
     "text": [
      "[114, 160, 60, 27]\n",
      "[74, 97, 73, 14]\n",
      "[119, 157, 112, 23]\n"
     ]
    }
   ],
   "source": [
    "a = [[12, 7, 3],\n",
    "    [4, 5, 6],\n",
    "    [7, 8, 9]]\n",
    " \n",
    "b = [[5, 8, 1, 2],\n",
    "    [6, 7, 3, 0],\n",
    "    [4, 5, 9, 1]]\n",
    " \n",
    "\n",
    "result = [[sum(a*b for a, b in zip(a_row, b_col))\n",
    "           for b_col in zip(*b)]\n",
    "          for a_row in a]\n",
    "for r in result:\n",
    "    print(r)\n",
    "    "
   ]
  },
  {
   "cell_type": "markdown",
   "id": "e17bd9b6-a361-4fa2-9a6c-499c1bc24c30",
   "metadata": {},
   "source": [
    "35. Create a program that simulates a basic text-based tic-tac-toe game against the computer."
   ]
  },
  {
   "cell_type": "code",
   "execution_count": 2,
   "id": "ebed556f-5ba9-46c0-b055-03e29f80f989",
   "metadata": {},
   "outputs": [
    {
     "name": "stdout",
     "output_type": "stream",
     "text": [
      "Welcome to Tic-Tac-Toe!\n",
      "  |   |  \n",
      "---------\n",
      "  |   |  \n",
      "---------\n",
      "  |   |  \n",
      "---------\n"
     ]
    },
    {
     "name": "stdin",
     "output_type": "stream",
     "text": [
      "Enter the row (1, 2, or 3):  1\n",
      "Enter the column (1, 2, or 3):  1\n"
     ]
    },
    {
     "name": "stdout",
     "output_type": "stream",
     "text": [
      "X |   |  \n",
      "---------\n",
      "  |   |  \n",
      "---------\n",
      "  |   |  \n",
      "---------\n",
      "Computer's turn...\n",
      "X |   |  \n",
      "---------\n",
      "  | O |  \n",
      "---------\n",
      "  |   |  \n",
      "---------\n"
     ]
    },
    {
     "name": "stdin",
     "output_type": "stream",
     "text": [
      "Enter the row (1, 2, or 3):  3\n",
      "Enter the column (1, 2, or 3):  1\n"
     ]
    },
    {
     "name": "stdout",
     "output_type": "stream",
     "text": [
      "X |   |  \n",
      "---------\n",
      "  | O |  \n",
      "---------\n",
      "X |   |  \n",
      "---------\n",
      "Computer's turn...\n",
      "X | O |  \n",
      "---------\n",
      "  | O |  \n",
      "---------\n",
      "X |   |  \n",
      "---------\n"
     ]
    },
    {
     "name": "stdin",
     "output_type": "stream",
     "text": [
      "Enter the row (1, 2, or 3):  3\n",
      "Enter the column (1, 2, or 3):  3\n"
     ]
    },
    {
     "name": "stdout",
     "output_type": "stream",
     "text": [
      "X | O |  \n",
      "---------\n",
      "  | O |  \n",
      "---------\n",
      "X |   | X\n",
      "---------\n",
      "Computer's turn...\n",
      "X | O |  \n",
      "---------\n",
      "  | O |  \n",
      "---------\n",
      "X | O | X\n",
      "---------\n",
      "Computer wins! Better luck next time.\n"
     ]
    }
   ],
   "source": [
    "import random\n",
    "\n",
    "def print_board(board):\n",
    "    for row in board:\n",
    "        print(\" | \".join(row))\n",
    "        print(\"-\" * 9)\n",
    "\n",
    "def check_winner(board, player):\n",
    "    for i in range(3):\n",
    "        if all(cell == player for cell in board[i]) or all(board[j][i] == player for j in range(3)):\n",
    "            return True\n",
    "    if all(board[i][i] == player for i in range(3)) or all(board[i][2 - i] == player for i in range(3)):\n",
    "        return True\n",
    "    return False\n",
    "\n",
    "def is_board_full(board):\n",
    "    return all(cell != ' ' for row in board for cell in row)\n",
    "\n",
    "def get_player_move(board):\n",
    "    while True:\n",
    "        try:\n",
    "            row = int(input(\"Enter the row (1, 2, or 3): \")) - 1\n",
    "            col = int(input(\"Enter the column (1, 2, or 3): \")) - 1\n",
    "\n",
    "            if 0 <= row < 3 and 0 <= col < 3 and board[row][col] == ' ':\n",
    "                return row, col\n",
    "            else:\n",
    "                print(\"Invalid move. Try again.\")\n",
    "        except ValueError:\n",
    "            print(\"Invalid input. Please enter a number.\")\n",
    "\n",
    "def get_computer_move(board):\n",
    "    empty_cells = [(i, j) for i in range(3) for j in range(3) if board[i][j] == ' ']\n",
    "    return random.choice(empty_cells)\n",
    "\n",
    "def play_tic_tac_toe():\n",
    "    board = [[' ' for _ in range(3)] for _ in range(3)]\n",
    "    player_symbol = 'X'\n",
    "    computer_symbol = 'O'\n",
    "\n",
    "    print(\"Welcome to Tic-Tac-Toe!\")\n",
    "    print_board(board)\n",
    "\n",
    "    while True:\n",
    "        player_row, player_col = get_player_move(board)\n",
    "        board[player_row][player_col] = player_symbol\n",
    "        print_board(board)\n",
    "\n",
    "        if check_winner(board, player_symbol):\n",
    "            print(\"Congratulations! You win!\")\n",
    "            break\n",
    "        elif is_board_full(board):\n",
    "            print(\"It's a tie!\")\n",
    "            break\n",
    "\n",
    "        print(\"Computer's turn...\")\n",
    "        computer_row, computer_col = get_computer_move(board)\n",
    "        board[computer_row][computer_col] = computer_symbol\n",
    "        print_board(board)\n",
    "\n",
    "        if check_winner(board, computer_symbol):\n",
    "            print(\"Computer wins! Better luck next time.\")\n",
    "            break\n",
    "        elif is_board_full(board):\n",
    "            print(\"It's a tie!\")\n",
    "            break\n",
    "\n",
    "if __name__ == \"__main__\":\n",
    "    play_tic_tac_toe()\n"
   ]
  },
  {
   "cell_type": "markdown",
   "id": "ac731a70-e95f-4a03-b6f7-3233754d78ec",
   "metadata": {},
   "source": [
    "36. Write a program that generates Fibonacci numbers up to a specified term using iterative methods."
   ]
  },
  {
   "cell_type": "code",
   "execution_count": 4,
   "id": "ee194a1b-f5b6-4be2-af8c-7523da4dce75",
   "metadata": {},
   "outputs": [
    {
     "name": "stdin",
     "output_type": "stream",
     "text": [
      "Enter the number of terms in the Fibonacci sequence:  10\n"
     ]
    },
    {
     "name": "stdout",
     "output_type": "stream",
     "text": [
      "Fibonacci sequence up to term 10: [0, 1, 1, 2, 3, 5, 8, 13, 21, 34]\n"
     ]
    }
   ],
   "source": [
    "def generate_fibonacci(n):\n",
    "    fibonacci_sequence = [0, 1]\n",
    "\n",
    "    for _ in range(2, n):\n",
    "        next_term = fibonacci_sequence[-1] + fibonacci_sequence[-2]\n",
    "        fibonacci_sequence.append(next_term)\n",
    "\n",
    "    return fibonacci_sequence\n",
    "\n",
    "def main():\n",
    "    try:\n",
    "        term = int(input(\"Enter the number of terms in the Fibonacci sequence: \"))\n",
    "\n",
    "        if term < 0:\n",
    "            raise ValueError(\"Please enter a non-negative integer.\")\n",
    "\n",
    "        fibonacci_numbers = generate_fibonacci(term)\n",
    "        print(f\"Fibonacci sequence up to term {term}: {fibonacci_numbers}\")\n",
    "\n",
    "    except ValueError as ve:\n",
    "        print(f\"Invalid input: {ve}\")\n",
    "\n",
    "if __name__ == \"__main__\":\n",
    "    main()\n"
   ]
  },
  {
   "cell_type": "markdown",
   "id": "cc1c8be4-5151-4e06-96ca-a8561cb88276",
   "metadata": {},
   "source": [
    "37. Develop a program that calculates the nth term of the Fibonacci sequence using memoization."
   ]
  },
  {
   "cell_type": "code",
   "execution_count": 5,
   "id": "2b5a2fb6-5b25-454b-ab38-e213d85489c8",
   "metadata": {},
   "outputs": [
    {
     "name": "stdin",
     "output_type": "stream",
     "text": [
      "Enter the term of the Fibonacci sequence you want to calculate:  5\n"
     ]
    },
    {
     "name": "stdout",
     "output_type": "stream",
     "text": [
      "The 5th term of the Fibonacci sequence is: 5\n"
     ]
    }
   ],
   "source": [
    "def fibonacci_memo(n, memo={}):\n",
    "    if n <= 1:\n",
    "        return n\n",
    "\n",
    "    if n not in memo:\n",
    "        memo[n] = fibonacci_memo(n - 1, memo) + fibonacci_memo(n - 2, memo)\n",
    "\n",
    "    return memo[n]\n",
    "\n",
    "def main():\n",
    "    try:\n",
    "        term = int(input(\"Enter the term of the Fibonacci sequence you want to calculate: \"))\n",
    "\n",
    "        if term < 0:\n",
    "            raise ValueError(\"Please enter a non-negative integer.\")\n",
    "\n",
    "        result = fibonacci_memo(term)\n",
    "        print(f\"The {term}th term of the Fibonacci sequence is: {result}\")\n",
    "\n",
    "    except ValueError as ve:\n",
    "        print(f\"Invalid input: {ve}\")\n",
    "\n",
    "if __name__ == \"__main__\":\n",
    "    main()\n"
   ]
  },
  {
   "cell_type": "markdown",
   "id": "5d2d19ac-024b-4a27-b80a-3f554d92f36f",
   "metadata": {},
   "source": [
    "38. Create a program that generates a calendar for a given month and year using conditional statements."
   ]
  },
  {
   "cell_type": "code",
   "execution_count": 6,
   "id": "d4fb15d0-53cf-4428-9bf3-8d883aff7939",
   "metadata": {},
   "outputs": [
    {
     "name": "stdin",
     "output_type": "stream",
     "text": [
      "Enter year:  2024\n",
      "Enter month:  2\n"
     ]
    },
    {
     "name": "stdout",
     "output_type": "stream",
     "text": [
      "   February 2024\n",
      "Mo Tu We Th Fr Sa Su\n",
      "          1  2  3  4\n",
      " 5  6  7  8  9 10 11\n",
      "12 13 14 15 16 17 18\n",
      "19 20 21 22 23 24 25\n",
      "26 27 28 29\n",
      "\n"
     ]
    }
   ],
   "source": [
    "import calendar\n",
    "\n",
    "yy = int(input(\"Enter year: \"))\n",
    "mm = int(input(\"Enter month: \"))\n",
    "\n",
    "print(calendar.month(yy, mm))"
   ]
  },
  {
   "cell_type": "markdown",
   "id": "5d6c93e7-a0bb-4a92-91ca-a5a93b26e00c",
   "metadata": {},
   "source": [
    "39. Build a program that simulates a basic text-based blackjack game against the computer."
   ]
  },
  {
   "cell_type": "code",
   "execution_count": 7,
   "id": "19443c5d-5d50-4cd2-9c94-7329a5d2bcc1",
   "metadata": {},
   "outputs": [
    {
     "name": "stdout",
     "output_type": "stream",
     "text": [
      "Welcome to Blackjack!\n",
      "   Your cards: [8, 10], current score: 18\n",
      "   Computer's first card: 10\n"
     ]
    },
    {
     "name": "stdin",
     "output_type": "stream",
     "text": [
      "Type 'y' to get another card, or 'n' to pass:  n\n"
     ]
    },
    {
     "name": "stdout",
     "output_type": "stream",
     "text": [
      "   Your final hand: [8, 10], final score: 18\n",
      "   Computer's final hand: [10, 10], final score: 20\n",
      "You lose!\n"
     ]
    }
   ],
   "source": [
    "import random\n",
    "\n",
    "def deal_card():\n",
    "    \"\"\"Return a random card from the deck.\"\"\"\n",
    "    cards = [11, 2, 3, 4, 5, 6, 7, 8, 9, 10, 10, 10, 10]\n",
    "    return random.choice(cards)\n",
    "\n",
    "def calculate_score(cards):\n",
    "    \"\"\"Calculate the total score of a hand.\"\"\"\n",
    "    if sum(cards) == 21 and len(cards) == 2:\n",
    "        return 0  # Blackjack\n",
    "\n",
    "    if 11 in cards and sum(cards) > 21:\n",
    "        cards.remove(11)\n",
    "        cards.append(1)\n",
    "\n",
    "    return sum(cards)\n",
    "\n",
    "def compare(user_score, computer_score):\n",
    "    \"\"\"Compare the final scores and determine the winner.\"\"\"\n",
    "    if user_score == computer_score:\n",
    "        return \"It's a draw!\"\n",
    "    elif computer_score == 0:\n",
    "        return \"You lose, opponent has Blackjack!\"\n",
    "    elif user_score == 0:\n",
    "        return \"You win with a Blackjack!\"\n",
    "    elif user_score > 21:\n",
    "        return \"You went over. You lose!\"\n",
    "    elif computer_score > 21:\n",
    "        return \"Opponent went over. You win!\"\n",
    "    elif user_score > computer_score:\n",
    "        return \"You win!\"\n",
    "    else:\n",
    "        return \"You lose!\"\n",
    "\n",
    "def play_game():\n",
    "    print(\"Welcome to Blackjack!\")\n",
    "\n",
    "    user_cards = [deal_card(), deal_card()]\n",
    "    computer_cards = [deal_card(), deal_card()]\n",
    "    is_game_over = False\n",
    "\n",
    "    while not is_game_over:\n",
    "        user_score = calculate_score(user_cards)\n",
    "        computer_score = calculate_score(computer_cards)\n",
    "\n",
    "        print(f\"   Your cards: {user_cards}, current score: {user_score}\")\n",
    "        print(f\"   Computer's first card: {computer_cards[0]}\")\n",
    "\n",
    "        if user_score == 0 or computer_score == 0 or user_score > 21:\n",
    "            is_game_over = True\n",
    "        else:\n",
    "            should_continue = input(\"Type 'y' to get another card, or 'n' to pass: \")\n",
    "            if should_continue == 'y':\n",
    "                user_cards.append(deal_card())\n",
    "            else:\n",
    "                is_game_over = True\n",
    "\n",
    "    while computer_score != 0 and computer_score < 17:\n",
    "        computer_cards.append(deal_card())\n",
    "        computer_score = calculate_score(computer_cards)\n",
    "\n",
    "    print(f\"   Your final hand: {user_cards}, final score: {user_score}\")\n",
    "    print(f\"   Computer's final hand: {computer_cards}, final score: {computer_score}\")\n",
    "    print(compare(user_score, computer_score))\n",
    "\n",
    "if __name__ == \"__main__\":\n",
    "    play_game()\n"
   ]
  },
  {
   "cell_type": "markdown",
   "id": "236975a3-2476-4c95-af91-92c4cc7e1a6e",
   "metadata": {},
   "source": [
    "40. Write a program that generates the prime factors of a given number using trial division."
   ]
  },
  {
   "cell_type": "code",
   "execution_count": 8,
   "id": "2042b3fe-bddf-41ff-9bf3-b280c55b5ef4",
   "metadata": {},
   "outputs": [
    {
     "name": "stdin",
     "output_type": "stream",
     "text": [
      "Enter a number to find its prime factors:  10\n"
     ]
    },
    {
     "name": "stdout",
     "output_type": "stream",
     "text": [
      "The prime factors of 10 are: [2, 5]\n"
     ]
    }
   ],
   "source": [
    "def prime_factors(n):\n",
    "    factors = []\n",
    "    divisor = 2\n",
    "\n",
    "    while divisor <= n:\n",
    "        if n % divisor == 0:\n",
    "            factors.append(divisor)\n",
    "            n = n // divisor\n",
    "        else:\n",
    "            divisor += 1\n",
    "\n",
    "    return factors\n",
    "\n",
    "def main():\n",
    "    try:\n",
    "        number = int(input(\"Enter a number to find its prime factors: \"))\n",
    "\n",
    "        if number < 2:\n",
    "            print(\"Prime factors are not defined for numbers less than 2.\")\n",
    "        else:\n",
    "            factors = prime_factors(number)\n",
    "            print(f\"The prime factors of {number} are: {factors}\")\n",
    "\n",
    "    except ValueError:\n",
    "        print(\"Invalid input. Please enter a valid integer.\")\n",
    "\n",
    "if __name__ == \"__main__\":\n",
    "    main()\n"
   ]
  },
  {
   "cell_type": "code",
   "execution_count": null,
   "id": "c078a059-e658-4011-a4d9-8c17ce3601b1",
   "metadata": {},
   "outputs": [],
   "source": []
  }
 ],
 "metadata": {
  "kernelspec": {
   "display_name": "Python 3 (ipykernel)",
   "language": "python",
   "name": "python3"
  },
  "language_info": {
   "codemirror_mode": {
    "name": "ipython",
    "version": 3
   },
   "file_extension": ".py",
   "mimetype": "text/x-python",
   "name": "python",
   "nbconvert_exporter": "python",
   "pygments_lexer": "ipython3",
   "version": "3.10.8"
  }
 },
 "nbformat": 4,
 "nbformat_minor": 5
}
